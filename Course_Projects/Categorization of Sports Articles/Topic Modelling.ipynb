{
 "cells": [
  {
   "cell_type": "code",
   "execution_count": 33,
   "metadata": {},
   "outputs": [],
   "source": [
    "import numpy as np\n",
    "import pandas as pd\n",
    "import os\n",
    "import re\n",
    "import nltk\n",
    "import spacy\n",
    "import matplotlib.pyplot as plt\n",
    "import seaborn as sns\n",
    "pd.set_option('display.max_colwidth',200)"
   ]
  },
  {
   "cell_type": "code",
   "execution_count": 34,
   "metadata": {},
   "outputs": [],
   "source": [
    "articles=[]\n",
    "for i in os.listdir('bbc_sports_articles/'):\n",
    "    file=open('bbc_sports_articles/'+i,encoding='utf-8',mode='rt')\n",
    "    articles.append(file.read())\n",
    "    file.close()    "
   ]
  },
  {
   "cell_type": "code",
   "execution_count": 35,
   "metadata": {},
   "outputs": [
    {
     "data": {
      "text/plain": [
       "471"
      ]
     },
     "execution_count": 35,
     "metadata": {},
     "output_type": "execute_result"
    }
   ],
   "source": [
    "len(articles)"
   ]
  },
  {
   "cell_type": "code",
   "execution_count": 36,
   "metadata": {},
   "outputs": [
    {
     "data": {
      "text/plain": [
       "'Wilkinson targets Ireland\\n\\nJonny Wilkinson says he is \"massively positive\" about his chances of playing some part in the Six Nations.\\n\\nA knee injury has ruled him out of England\\'s first two matches against Wales and France, but he is hoping to feature against Ireland on 27 February. \"I\\'m coming on really well. The physios at England and Newcastle are as happy as they could possibly be at this point.\" said the England fly-half. Wilkinson has not played for England since their 2003 World Cup final win. \"The injury is to my left leg so, as a kicker, I need to make sure I\\'m really right so I can play my usual game.\"\\n\\n\"All I can do is try to get back. It (the knee injury) happened two and a half weeks ago and the limit was then set of six to eight weeks, which is the second half of the Six Nations.\" \"I\\'m just concentrating on doing my bit, which is the rehab. \"All I can do is free myself up for selection and then see what people want to do with me, whether they want to play me or leave it.\" If he does not recover in time for England\\'s Six Nations season, his next target would be the British and Irish Lions tour to New Zealand. \"I\\'m looking to play first for Newcastle, then think about England and only then will I think about the Lions.\" he said. \"As with my other injuries, I\\'m taking it day by day.\"\\n'"
      ]
     },
     "execution_count": 36,
     "metadata": {},
     "output_type": "execute_result"
    }
   ],
   "source": [
    "articles[0]"
   ]
  },
  {
   "cell_type": "code",
   "execution_count": 37,
   "metadata": {},
   "outputs": [],
   "source": [
    "clean_articles=[]\n",
    "for i in articles:\n",
    "    clean_articles.append(i.replace('\\n',' ').replace(\"\\'\",' '))"
   ]
  },
  {
   "cell_type": "code",
   "execution_count": 38,
   "metadata": {},
   "outputs": [
    {
     "data": {
      "text/plain": [
       "'Wilkinson targets Ireland  Jonny Wilkinson says he is \"massively positive\" about his chances of playing some part in the Six Nations.  A knee injury has ruled him out of England s first two matches against Wales and France, but he is hoping to feature against Ireland on 27 February. \"I m coming on really well. The physios at England and Newcastle are as happy as they could possibly be at this point.\" said the England fly-half. Wilkinson has not played for England since their 2003 World Cup final win. \"The injury is to my left leg so, as a kicker, I need to make sure I m really right so I can play my usual game.\"  \"All I can do is try to get back. It (the knee injury) happened two and a half weeks ago and the limit was then set of six to eight weeks, which is the second half of the Six Nations.\" \"I m just concentrating on doing my bit, which is the rehab. \"All I can do is free myself up for selection and then see what people want to do with me, whether they want to play me or leave it.\" If he does not recover in time for England s Six Nations season, his next target would be the British and Irish Lions tour to New Zealand. \"I m looking to play first for Newcastle, then think about England and only then will I think about the Lions.\" he said. \"As with my other injuries, I m taking it day by day.\" '"
      ]
     },
     "execution_count": 38,
     "metadata": {},
     "output_type": "execute_result"
    }
   ],
   "source": [
    "clean_articles[0]"
   ]
  },
  {
   "cell_type": "code",
   "execution_count": 39,
   "metadata": {},
   "outputs": [
    {
     "data": {
      "text/plain": [
       "'Wilkinson targets Ireland  Jonny Wilkinson says he is  massively positive  about his chances of playing some part in the Six Nations   A knee injury has ruled him out of England s first two matches against Wales and France  but he is hoping to feature against Ireland on    February   I m coming on really well  The physios at England and Newcastle are as happy as they could possibly be at this point   said the England fly half  Wilkinson has not played for England since their      World Cup final win   The injury is to my left leg so  as a kicker  I need to make sure I m really right so I can play my usual game     All I can do is try to get back  It  the knee injury  happened two and a half weeks ago and the limit was then set of six to eight weeks  which is the second half of the Six Nations    I m just concentrating on doing my bit  which is the rehab   All I can do is free myself up for selection and then see what people want to do with me  whether they want to play me or leave it   If he does not recover in time for England s Six Nations season  his next target would be the British and Irish Lions tour to New Zealand   I m looking to play first for Newcastle  then think about England and only then will I think about the Lions   he said   As with my other injuries  I m taking it day by day   '"
      ]
     },
     "execution_count": 39,
     "metadata": {},
     "output_type": "execute_result"
    }
   ],
   "source": [
    "clean_articles=[re.sub('[^a-zA-Z]',' ',x) for x in clean_articles]\n",
    "clean_articles[0]"
   ]
  },
  {
   "cell_type": "code",
   "execution_count": 40,
   "metadata": {},
   "outputs": [],
   "source": [
    "clean_articles=[' '.join([w for w in x.split() if len(w)>1])for x in clean_articles]"
   ]
  },
  {
   "cell_type": "code",
   "execution_count": 41,
   "metadata": {},
   "outputs": [
    {
     "data": {
      "text/plain": [
       "'Wilkinson targets Ireland Jonny Wilkinson says he is massively positive about his chances of playing some part in the Six Nations knee injury has ruled him out of England first two matches against Wales and France but he is hoping to feature against Ireland on February coming on really well The physios at England and Newcastle are as happy as they could possibly be at this point said the England fly half Wilkinson has not played for England since their World Cup final win The injury is to my left leg so as kicker need to make sure really right so can play my usual game All can do is try to get back It the knee injury happened two and half weeks ago and the limit was then set of six to eight weeks which is the second half of the Six Nations just concentrating on doing my bit which is the rehab All can do is free myself up for selection and then see what people want to do with me whether they want to play me or leave it If he does not recover in time for England Six Nations season his next target would be the British and Irish Lions tour to New Zealand looking to play first for Newcastle then think about England and only then will think about the Lions he said As with my other injuries taking it day by day'"
      ]
     },
     "execution_count": 41,
     "metadata": {},
     "output_type": "execute_result"
    }
   ],
   "source": [
    "clean_articles[0]"
   ]
  },
  {
   "cell_type": "code",
   "execution_count": 42,
   "metadata": {},
   "outputs": [
    {
     "data": {
      "text/plain": [
       "'wilkinson targets ireland jonny wilkinson says he is massively positive about his chances of playing some part in the six nations knee injury has ruled him out of england first two matches against wales and france but he is hoping to feature against ireland on february coming on really well the physios at england and newcastle are as happy as they could possibly be at this point said the england fly half wilkinson has not played for england since their world cup final win the injury is to my left leg so as kicker need to make sure really right so can play my usual game all can do is try to get back it the knee injury happened two and half weeks ago and the limit was then set of six to eight weeks which is the second half of the six nations just concentrating on doing my bit which is the rehab all can do is free myself up for selection and then see what people want to do with me whether they want to play me or leave it if he does not recover in time for england six nations season his next target would be the british and irish lions tour to new zealand looking to play first for newcastle then think about england and only then will think about the lions he said as with my other injuries taking it day by day'"
      ]
     },
     "execution_count": 42,
     "metadata": {},
     "output_type": "execute_result"
    }
   ],
   "source": [
    "clean_articles=[x.lower() for x in clean_articles]\n",
    "clean_articles[0]"
   ]
  },
  {
   "cell_type": "code",
   "execution_count": 43,
   "metadata": {},
   "outputs": [],
   "source": [
    "def freq_words(x,terms=30):\n",
    "    combine_articles=' '.join([text for text in x])\n",
    "    all_words=combine_articles.split()\n",
    "    fdist=nltk.FreqDist(all_words)\n",
    "    words_df=pd.DataFrame({'words':list(fdist.keys()),'count':list(fdist.values())})\n",
    "    df=words_df.sort_values(ascending=False,by='count')[:30]\n",
    "    plt.figure(figsize=(20,5))\n",
    "    sns.barplot(x='words',y='count',data=df)\n",
    "    plt.show()"
   ]
  },
  {
   "cell_type": "code",
   "execution_count": 44,
   "metadata": {},
   "outputs": [
    {
     "data": {
      "image/png": "[encoded data removed]",
      "text/plain": [
       "<Figure size 1440x360 with 1 Axes>"
      ]
     },
     "metadata": {
      "needs_background": "light"
     },
     "output_type": "display_data"
    }
   ],
   "source": [
    "freq_words(clean_articles)"
   ]
  },
  {
   "cell_type": "code",
   "execution_count": 45,
   "metadata": {},
   "outputs": [],
   "source": [
    "nlp=spacy.load('en_core_web_sm')"
   ]
  },
  {
   "cell_type": "code",
   "execution_count": 46,
   "metadata": {},
   "outputs": [],
   "source": [
    "clean_articles=[' '.join(token.lemma_ for token in nlp(x)) for x in clean_articles]"
   ]
  },
  {
   "cell_type": "code",
   "execution_count": 47,
   "metadata": {},
   "outputs": [],
   "source": [
    "clean_articles=[' '.join([w for w in x.split() if nlp.vocab[w].is_stop==False])for x in clean_articles ]"
   ]
  },
  {
   "cell_type": "code",
   "execution_count": 48,
   "metadata": {},
   "outputs": [
    {
     "data": {
      "image/png": "[encoded data removed]",
      "text/plain": [
       "<Figure size 1440x360 with 1 Axes>"
      ]
     },
     "metadata": {
      "needs_background": "light"
     },
     "output_type": "display_data"
    }
   ],
   "source": [
    "freq_words(clean_articles)"
   ]
  },
  {
   "cell_type": "code",
   "execution_count": 49,
   "metadata": {},
   "outputs": [],
   "source": [
    "clean_articles=[re.sub('-PRON-','',i) for i in clean_articles]"
   ]
  },
  {
   "cell_type": "code",
   "execution_count": 50,
   "metadata": {},
   "outputs": [
    {
     "data": {
      "image/png": "[encoded data removed]",
      "text/plain": [
       "<Figure size 1440x360 with 1 Axes>"
      ]
     },
     "metadata": {
      "needs_background": "light"
     },
     "output_type": "display_data"
    }
   ],
   "source": [
    "freq_words(clean_articles)"
   ]
  },
  {
   "cell_type": "code",
   "execution_count": 51,
   "metadata": {},
   "outputs": [],
   "source": [
    "def get_unique_words(x):\n",
    "    text=' '.join([text for text in x])\n",
    "    return set(text.split())"
   ]
  },
  {
   "cell_type": "code",
   "execution_count": 52,
   "metadata": {},
   "outputs": [
    {
     "name": "stdout",
     "output_type": "stream",
     "text": [
      "7754\n"
     ]
    }
   ],
   "source": [
    "words_unique=get_unique_words(clean_articles)\n",
    "print(len(words_unique))"
   ]
  },
  {
   "cell_type": "code",
   "execution_count": 53,
   "metadata": {},
   "outputs": [],
   "source": [
    "from sklearn.feature_extraction.text import TfidfVectorizer"
   ]
  },
  {
   "cell_type": "code",
   "execution_count": 57,
   "metadata": {},
   "outputs": [
    {
     "data": {
      "text/plain": [
       "(471, 7754)"
      ]
     },
     "execution_count": 57,
     "metadata": {},
     "output_type": "execute_result"
    }
   ],
   "source": [
    "vectorizer=TfidfVectorizer()\n",
    "X=vectorizer.fit_transform(clean_articles)\n",
    "X.shape"
   ]
  },
  {
   "cell_type": "code",
   "execution_count": 65,
   "metadata": {},
   "outputs": [
    {
     "ename": "TypeError",
     "evalue": "object() takes no parameters",
     "output_type": "error",
     "traceback": [
      "\u001b[0;31m---------------------------------------------------------------------------\u001b[0m",
      "\u001b[0;31mTypeError\u001b[0m                                 Traceback (most recent call last)",
      "\u001b[0;32m<ipython-input-65-9d852a400e5d>\u001b[0m in \u001b[0;36m<module>\u001b[0;34m\u001b[0m\n\u001b[0;32m----> 1\u001b[0;31m \u001b[0mX_df\u001b[0m\u001b[0;34m=\u001b[0m\u001b[0mpd\u001b[0m\u001b[0;34m.\u001b[0m\u001b[0mSparseDataFrame\u001b[0m\u001b[0;34m(\u001b[0m\u001b[0mX\u001b[0m\u001b[0;34m,\u001b[0m\u001b[0mcolumns\u001b[0m\u001b[0;34m=\u001b[0m\u001b[0mvectorizer\u001b[0m\u001b[0;34m.\u001b[0m\u001b[0mget_feature_names\u001b[0m\u001b[0;34m(\u001b[0m\u001b[0;34m)\u001b[0m\u001b[0;34m,\u001b[0m\u001b[0mdefault_fill_value\u001b[0m\u001b[0;34m=\u001b[0m\u001b[0;36m0\u001b[0m\u001b[0;34m)\u001b[0m\u001b[0;34m\u001b[0m\u001b[0;34m\u001b[0m\u001b[0m\n\u001b[0m\u001b[1;32m      2\u001b[0m \u001b[0;31m#X_df.head()\u001b[0m\u001b[0;34m\u001b[0m\u001b[0;34m\u001b[0m\u001b[0;34m\u001b[0m\u001b[0m\n",
      "\u001b[0;31mTypeError\u001b[0m: object() takes no parameters"
     ]
    }
   ],
   "source": [
    "X_df=pd.SparseDataFrame(X,columns=vectorizer.get_feature_names(),default_fill_value=0)\n",
    "#X_df.head()"
   ]
  },
  {
   "cell_type": "code",
   "execution_count": 66,
   "metadata": {},
   "outputs": [
    {
     "data": {
      "text/plain": [
       "<471x7754 sparse matrix of type '<class 'numpy.float64'>'\n",
       "\twith 54670 stored elements in Compressed Sparse Row format>"
      ]
     },
     "execution_count": 66,
     "metadata": {},
     "output_type": "execute_result"
    }
   ],
   "source": [
    "X"
   ]
  },
  {
   "cell_type": "code",
   "execution_count": null,
   "metadata": {},
   "outputs": [],
   "source": []
  }
 ],
 "metadata": {
  "kernelspec": {
   "display_name": "Python 3",
   "language": "python",
   "name": "python3"
  },
  "language_info": {
   "codemirror_mode": {
    "name": "ipython",
    "version": 3
   },
   "file_extension": ".py",
   "mimetype": "text/x-python",
   "name": "python",
   "nbconvert_exporter": "python",
   "pygments_lexer": "ipython3",
   "version": "3.6.9"
  }
 },
 "nbformat": 4,
 "nbformat_minor": 4
}
