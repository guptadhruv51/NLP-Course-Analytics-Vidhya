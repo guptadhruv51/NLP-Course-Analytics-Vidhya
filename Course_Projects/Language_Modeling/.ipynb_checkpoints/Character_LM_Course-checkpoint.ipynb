{
 "cells": [
  {
   "cell_type": "markdown",
   "metadata": {
    "colab_type": "text",
    "id": "LUYj4cBds7DT"
   },
   "source": [
    "# Neural Language Model using RNN\n",
    "\n",
    " - We can essentially build two kinds of language models – character level and word level. \n",
    " - And even under each category, we can have many subcategories based on the simple fact of how we are framing the learning problem. \n",
    " - We will be taking the most straightforward approach – building a character-level language model.\n",
    "\n"
   ]
  },
  {
   "cell_type": "markdown",
   "metadata": {
    "colab_type": "text",
    "id": "MOXIqSCOs7Hf"
   },
   "source": [
    "## Importing required libraries"
   ]
  },
  {
   "cell_type": "code",
   "execution_count": 1,
   "metadata": {
    "colab": {},
    "colab_type": "code",
    "id": "NTmCSYMe-Cel"
   },
   "outputs": [
    {
     "name": "stderr",
     "output_type": "stream",
     "text": [
      "Using TensorFlow backend.\n",
      "/Users/guptadhruv51/anaconda3/lib/python3.6/site-packages/tensorflow/python/framework/dtypes.py:516: FutureWarning: Passing (type, 1) or '1type' as a synonym of type is deprecated; in a future version of numpy, it will be understood as (type, (1,)) / '(1,)type'.\n",
      "  _np_qint8 = np.dtype([(\"qint8\", np.int8, 1)])\n",
      "/Users/guptadhruv51/anaconda3/lib/python3.6/site-packages/tensorflow/python/framework/dtypes.py:517: FutureWarning: Passing (type, 1) or '1type' as a synonym of type is deprecated; in a future version of numpy, it will be understood as (type, (1,)) / '(1,)type'.\n",
      "  _np_quint8 = np.dtype([(\"quint8\", np.uint8, 1)])\n",
      "/Users/guptadhruv51/anaconda3/lib/python3.6/site-packages/tensorflow/python/framework/dtypes.py:518: FutureWarning: Passing (type, 1) or '1type' as a synonym of type is deprecated; in a future version of numpy, it will be understood as (type, (1,)) / '(1,)type'.\n",
      "  _np_qint16 = np.dtype([(\"qint16\", np.int16, 1)])\n",
      "/Users/guptadhruv51/anaconda3/lib/python3.6/site-packages/tensorflow/python/framework/dtypes.py:519: FutureWarning: Passing (type, 1) or '1type' as a synonym of type is deprecated; in a future version of numpy, it will be understood as (type, (1,)) / '(1,)type'.\n",
      "  _np_quint16 = np.dtype([(\"quint16\", np.uint16, 1)])\n",
      "/Users/guptadhruv51/anaconda3/lib/python3.6/site-packages/tensorflow/python/framework/dtypes.py:520: FutureWarning: Passing (type, 1) or '1type' as a synonym of type is deprecated; in a future version of numpy, it will be understood as (type, (1,)) / '(1,)type'.\n",
      "  _np_qint32 = np.dtype([(\"qint32\", np.int32, 1)])\n",
      "/Users/guptadhruv51/anaconda3/lib/python3.6/site-packages/tensorflow/python/framework/dtypes.py:525: FutureWarning: Passing (type, 1) or '1type' as a synonym of type is deprecated; in a future version of numpy, it will be understood as (type, (1,)) / '(1,)type'.\n",
      "  np_resource = np.dtype([(\"resource\", np.ubyte, 1)])\n",
      "/Users/guptadhruv51/anaconda3/lib/python3.6/site-packages/tensorboard/compat/tensorflow_stub/dtypes.py:541: FutureWarning: Passing (type, 1) or '1type' as a synonym of type is deprecated; in a future version of numpy, it will be understood as (type, (1,)) / '(1,)type'.\n",
      "  _np_qint8 = np.dtype([(\"qint8\", np.int8, 1)])\n",
      "/Users/guptadhruv51/anaconda3/lib/python3.6/site-packages/tensorboard/compat/tensorflow_stub/dtypes.py:542: FutureWarning: Passing (type, 1) or '1type' as a synonym of type is deprecated; in a future version of numpy, it will be understood as (type, (1,)) / '(1,)type'.\n",
      "  _np_quint8 = np.dtype([(\"quint8\", np.uint8, 1)])\n",
      "/Users/guptadhruv51/anaconda3/lib/python3.6/site-packages/tensorboard/compat/tensorflow_stub/dtypes.py:543: FutureWarning: Passing (type, 1) or '1type' as a synonym of type is deprecated; in a future version of numpy, it will be understood as (type, (1,)) / '(1,)type'.\n",
      "  _np_qint16 = np.dtype([(\"qint16\", np.int16, 1)])\n",
      "/Users/guptadhruv51/anaconda3/lib/python3.6/site-packages/tensorboard/compat/tensorflow_stub/dtypes.py:544: FutureWarning: Passing (type, 1) or '1type' as a synonym of type is deprecated; in a future version of numpy, it will be understood as (type, (1,)) / '(1,)type'.\n",
      "  _np_quint16 = np.dtype([(\"quint16\", np.uint16, 1)])\n",
      "/Users/guptadhruv51/anaconda3/lib/python3.6/site-packages/tensorboard/compat/tensorflow_stub/dtypes.py:545: FutureWarning: Passing (type, 1) or '1type' as a synonym of type is deprecated; in a future version of numpy, it will be understood as (type, (1,)) / '(1,)type'.\n",
      "  _np_qint32 = np.dtype([(\"qint32\", np.int32, 1)])\n",
      "/Users/guptadhruv51/anaconda3/lib/python3.6/site-packages/tensorboard/compat/tensorflow_stub/dtypes.py:550: FutureWarning: Passing (type, 1) or '1type' as a synonym of type is deprecated; in a future version of numpy, it will be understood as (type, (1,)) / '(1,)type'.\n",
      "  np_resource = np.dtype([(\"resource\", np.ubyte, 1)])\n"
     ]
    }
   ],
   "source": [
    "import numpy as np\n",
    "import pandas as pd\n",
    "from keras.utils import to_categorical\n",
    "from keras.preprocessing.sequence import pad_sequences\n",
    "from keras.models import Sequential\n",
    "from keras.layers import LSTM, Dense, GRU, Embedding\n",
    "from keras.callbacks import EarlyStopping, ModelCheckpoint"
   ]
  },
  {
   "cell_type": "markdown",
   "metadata": {
    "colab_type": "text",
    "id": "WHBKoRmJtLaj"
   },
   "source": [
    "## Dataset\n",
    "\n",
    "<img src=\"https://s3-ap-south-1.amazonaws.com/av-blog-media/wp-content/uploads/2019/08/vc51.jpg\" width=200 ></img>\n",
    "\n",
    " - Does the above text seem familiar? It’s the US Declaration of Independence! The dataset we will use is the text from this Declaration.\n",
    "\n",
    " - This is a historically important document because it was signed when the United States of America got independence from the British.\n",
    "\n",
    " - It’s the right size to experiment with because we are training a character-level language model which is comparatively more intensive to run as compared to a word-level language model.\n",
    "\n",
    " - The problem statement is to train a language model on the given text and then generate text given an input text in such a way that it looks straight out of this document and is grammatically correct and legible to read."
   ]
  },
  {
   "cell_type": "code",
   "execution_count": 2,
   "metadata": {
    "colab": {},
    "colab_type": "code",
    "id": "rTOLEV8wroR9"
   },
   "outputs": [],
   "source": [
    "data_text = \"\"\"The unanimous Declaration of the thirteen united States of America, When in the Course of human events, it becomes necessary for one people to dissolve the political bands which have connected them with another, and to assume among the powers of the earth, the separate and equal station to which the Laws of Nature and of Nature's God entitle them, a decent respect to the opinions of mankind requires that they should declare the causes which impel them to the separation.\n",
    "\n",
    "We hold these truths to be self-evident, that all men are created equal, that they are endowed by their Creator with certain unalienable Rights, that among these are Life, Liberty and the pursuit of Happiness.--That to secure these rights, Governments are instituted among Men, deriving their just powers from the consent of the governed, --That whenever any Form of Government becomes destructive of these ends, it is the Right of the People to alter or to abolish it, and to institute new Government, laying its foundation on such principles and organizing its powers in such form, as to them shall seem most likely to effect their Safety and Happiness. Prudence, indeed, will dictate that Governments long established should not be changed for light and transient causes; and accordingly all experience hath shewn, that mankind are more disposed to suffer, while evils are sufferable, than to right themselves by abolishing the forms to which they are accustomed. But when a long train of abuses and usurpations, pursuing invariably the same Object evinces a design to reduce them under absolute Despotism, it is their right, it is their duty, to throw off such Government, and to provide new Guards for their future security.--Such has been the patient sufferance of these Colonies; and such is now the necessity which constrains them to alter their former Systems of Government. The history of the present King of Great Britain is a history of repeated injuries and usurpations, all having in direct object the establishment of an absolute Tyranny over these States. To prove this, let Facts be submitted to a candid world.\n",
    "\n",
    "He has refused his Assent to Laws, the most wholesome and necessary for the public good.\n",
    "\n",
    "He has forbidden his Governors to pass Laws of immediate and pressing importance, unless suspended in their operation till his Assent should be obtained; and when so suspended, he has utterly neglected to attend to them.\n",
    "\n",
    "He has refused to pass other Laws for the accommodation of large districts of people, unless those people would relinquish the right of Representation in the Legislature, a right inestimable to them and formidable to tyrants only.\n",
    "\n",
    "He has called together legislative bodies at places unusual, uncomfortable, and distant from the depository of their public Records, for the sole purpose of fatiguing them into compliance with his measures.\n",
    "\n",
    "He has dissolved Representative Houses repeatedly, for opposing with manly firmness his invasions on the rights of the people.\n",
    "\n",
    "He has refused for a long time, after such dissolutions, to cause others to be elected; whereby the Legislative powers, incapable of Annihilation, have returned to the People at large for their exercise; the State remaining in the mean time exposed to all the dangers of invasion from without, and convulsions within.\n",
    "\n",
    "He has endeavoured to prevent the population of these States; for that purpose obstructing the Laws for Naturalization of Foreigners; refusing to pass others to encourage their migrations hither, and raising the conditions of new Appropriations of Lands.\n",
    "\n",
    "He has obstructed the Administration of Justice, by refusing his Assent to Laws for establishing Judiciary powers.\n",
    "\n",
    "He has made Judges dependent on his Will alone, for the tenure of their offices, and the amount and payment of their salaries.\n",
    "\n",
    "He has erected a multitude of New Offices, and sent hither swarms of Officers to harrass our people, and eat out their substance.\n",
    "\n",
    "He has kept among us, in times of peace, Standing Armies without the Consent of our legislatures.\n",
    "\n",
    "He has affected to render the Military independent of and superior to the Civil power.\n",
    "\n",
    "He has combined with others to subject us to a jurisdiction foreign to our constitution, and unacknowledged by our laws; giving his Assent to their Acts of pretended Legislation:\n",
    "\n",
    "For Quartering large bodies of armed troops among us:\n",
    "\n",
    "For protecting them, by a mock Trial, from punishment for any Murders which they should commit on the Inhabitants of these States:\n",
    "\n",
    "For cutting off our Trade with all parts of the world:\n",
    "\n",
    "For imposing Taxes on us without our Consent:\n",
    "\n",
    "For depriving us in many cases, of the benefits of Trial by Jury:\n",
    "\n",
    "For transporting us beyond Seas to be tried for pretended offences\n",
    "\n",
    "For abolishing the free System of English Laws in a neighbouring Province, establishing therein an Arbitrary government, and enlarging its Boundaries so as to render it at once an example and fit instrument for introducing the same absolute rule into these Colonies:\n",
    "\n",
    "For taking away our Charters, abolishing our most valuable Laws, and altering fundamentally the Forms of our Governments:\n",
    "\n",
    "For suspending our own Legislatures, and declaring themselves invested with power to legislate for us in all cases whatsoever.\n",
    "\n",
    "He has abdicated Government here, by declaring us out of his Protection and waging War against us.\n",
    "\n",
    "He has plundered our seas, ravaged our Coasts, burnt our towns, and destroyed the lives of our people.\n",
    "\n",
    "He is at this time transporting large Armies of foreign Mercenaries to compleat the works of death, desolation and tyranny, already begun with circumstances of Cruelty & perfidy scarcely paralleled in the most barbarous ages, and totally unworthy the Head of a civilized nation.\n",
    "\n",
    "He has constrained our fellow Citizens taken Captive on the high Seas to bear Arms against their Country, to become the executioners of their friends and Brethren, or to fall themselves by their Hands.\n",
    "\n",
    "He has excited domestic insurrections amongst us, and has endeavoured to bring on the inhabitants of our frontiers, the merciless Indian Savages, whose known rule of warfare, is an undistinguished destruction of all ages, sexes and conditions.\n",
    "\n",
    "In every stage of these Oppressions We have Petitioned for Redress in the most humble terms: Our repeated Petitions have been answered only by repeated injury. A Prince whose character is thus marked by every act which may define a Tyrant, is unfit to be the ruler of a free people.\n",
    "\n",
    "Nor have We been wanting in attentions to our Brittish brethren. We have warned them from time to time of attempts by their legislature to extend an unwarrantable jurisdiction over us. We have reminded them of the circumstances of our emigration and settlement here. We have appealed to their native justice and magnanimity, and we have conjured them by the ties of our common kindred to disavow these usurpations, which, would inevitably interrupt our connections and correspondence. They too have been deaf to the voice of justice and of consanguinity. We must, therefore, acquiesce in the necessity, which denounces our Separation, and hold them, as we hold the rest of mankind, Enemies in War, in Peace Friends.\n",
    "\n",
    "We, therefore, the Representatives of the united States of America, in General Congress, Assembled, appealing to the Supreme Judge of the world for the rectitude of our intentions, do, in the Name, and by Authority of the good People of these Colonies, solemnly publish and declare, That these United Colonies are, and of Right ought to be Free and Independent States; that they are Absolved from all Allegiance to the British Crown, and that all political connection between them and the State of Great Britain, is and ought to be totally dissolved; and that as Free and Independent States, they have full Power to levy War, conclude Peace, contract Alliances, establish Commerce, and to do all other Acts and Things which Independent States may of right do. And for the support of this Declaration, with a firm reliance on the protection of divine Providence, we mutually pledge to each other our Lives, our Fortunes and our sacred Honor.\"\"\""
   ]
  },
  {
   "cell_type": "markdown",
   "metadata": {
    "colab_type": "text",
    "id": "a9BCyYOjtPd4"
   },
   "source": [
    "## Preprocessing the data\n",
    "\n",
    "### Cleaning\n",
    "\n",
    " - We perform basic text preprocessing since this data does not have much noise. \n",
    " - We lower case all the words to maintain uniformity and remove words with length less than 3\n"
   ]
  },
  {
   "cell_type": "code",
   "execution_count": 0,
   "metadata": {
    "colab": {},
    "colab_type": "code",
    "id": "4MnGed5w-Cep"
   },
   "outputs": [],
   "source": [
    "import re\n",
    "\n",
    "def text_cleaner(text):\n",
    "    # lower case text\n",
    "    newString = text.lower()\n",
    "    newString = re.sub(r\"'s\\b\",\"\",newString)\n",
    "    # remove punctuations\n",
    "    newString = re.sub(\"[^a-zA-Z]\", \" \", newString) \n",
    "    long_words=[]\n",
    "    # remove short word\n",
    "    for i in newString.split():\n",
    "        if len(i)>=3:                  \n",
    "            long_words.append(i)\n",
    "    return (\" \".join(long_words)).strip()\n"
   ]
  },
  {
   "cell_type": "code",
   "execution_count": 0,
   "metadata": {
    "colab": {
     "base_uri": "https://localhost:8080/",
     "height": 122
    },
    "colab_type": "code",
    "id": "oV_F692wgRm5",
    "outputId": "c4e57849-a48e-4734-9f6b-ee139945e109"
   },
   "outputs": [
    {
     "name": "stdout",
     "output_type": "stream",
     "text": [
      "RAW TEXT:\n",
      " The unanimous Declaration of the thirteen united States of America, When in the Course of human events, it becomes necessary for one people to dissolv\n",
      "\n",
      "PROCESSED TEXT:\n",
      " the unanimous declaration the thirteen united states america when the course human events becomes necessary for one people dissolve the political band\n"
     ]
    }
   ],
   "source": [
    "print(\"RAW TEXT:\\n\", data_text[:150])\n",
    "# clean the text\n",
    "data_new = text_cleaner(data_text)\n",
    "# processed text\n",
    "print(\"\\nPROCESSED TEXT:\\n\", data_new[:150])"
   ]
  },
  {
   "cell_type": "code",
   "execution_count": 0,
   "metadata": {
    "colab": {
     "base_uri": "https://localhost:8080/",
     "height": 34
    },
    "colab_type": "code",
    "id": "BWHetpXsFXV-",
    "outputId": "db6f8f6a-4da1-4bf8-c79e-875a1cbe4d2c"
   },
   "outputs": [
    {
     "name": "stdout",
     "output_type": "stream",
     "text": [
      "String length: 7082\n"
     ]
    }
   ],
   "source": [
    "print(\"String length:\", len(data_new))"
   ]
  },
  {
   "cell_type": "markdown",
   "metadata": {
    "colab_type": "text",
    "id": "AP1JBseBuJnJ"
   },
   "source": [
    "Once the preprocessing is complete, it is time to create training sequences for the model.\n",
    "\n",
    "### Generating character sequences\n",
    "\n",
    "- The way this problem is modeled is we take in 30 characters as context and ask the model to predict the next character. \n",
    "- Now, 30 is a number which I got by trial and error and you can experiment with it too. \n",
    "- You essentially need enough characters in the input sequence that your model is able to get the context."
   ]
  },
  {
   "cell_type": "code",
   "execution_count": 0,
   "metadata": {
    "colab": {},
    "colab_type": "code",
    "id": "P-yI-5p_-Cev"
   },
   "outputs": [],
   "source": [
    "def create_seq(text):\n",
    "    length = 30\n",
    "    sequences = list()\n",
    "    for i in range(length, len(text)):\n",
    "        # select sequence of tokens\n",
    "        seq = text[i-length:i+1]\n",
    "        # store\n",
    "        sequences.append(seq)\n",
    "    print('Total Sequences: %d' % len(sequences))\n",
    "    return sequences"
   ]
  },
  {
   "cell_type": "code",
   "execution_count": 0,
   "metadata": {
    "colab": {
     "base_uri": "https://localhost:8080/",
     "height": 119
    },
    "colab_type": "code",
    "id": "YuZsUFha-Cey",
    "outputId": "be75c749-59bf-4a70-f572-d78eeec9235b",
    "scrolled": true
   },
   "outputs": [
    {
     "name": "stdout",
     "output_type": "stream",
     "text": [
      "Total Sequences: 7052\n"
     ]
    },
    {
     "data": {
      "text/plain": [
       "['the unanimous declaration the t',\n",
       " 'he unanimous declaration the th',\n",
       " 'e unanimous declaration the thi',\n",
       " ' unanimous declaration the thir',\n",
       " 'unanimous declaration the thirt']"
      ]
     },
     "execution_count": 39,
     "metadata": {
      "tags": []
     },
     "output_type": "execute_result"
    }
   ],
   "source": [
    "sequences = create_seq(data_new)\n",
    "sequences[:5]"
   ]
  },
  {
   "cell_type": "markdown",
   "metadata": {
    "colab_type": "text",
    "id": "YGy0HhjHvI6N"
   },
   "source": [
    "Once the sequences are generated, the next step is to encode each character. This would give us a sequence of numbers.\n",
    "\n",
    "\n",
    "### Numerical encoding of characters"
   ]
  },
  {
   "cell_type": "code",
   "execution_count": 0,
   "metadata": {
    "colab": {},
    "colab_type": "code",
    "id": "UyQ0C-5X-Ce5"
   },
   "outputs": [],
   "source": [
    "# create a character mapping index\n",
    "chars = sorted(list(set(data_new)))\n",
    "mapping = dict((c, i) for i, c in enumerate(chars))\n",
    "\n",
    "def encode_seq(seq):\n",
    "    sequences = list()\n",
    "    for line in seq:\n",
    "        # integer encode line\n",
    "        encoded_seq = [mapping[char] for char in line]\n",
    "        # store\n",
    "        sequences.append(encoded_seq)\n",
    "    return sequences\n",
    "\n",
    "# encode the sequences\n",
    "sequences = encode_seq(sequences)"
   ]
  },
  {
   "cell_type": "code",
   "execution_count": 0,
   "metadata": {
    "colab": {
     "base_uri": "https://localhost:8080/",
     "height": 1000
    },
    "colab_type": "code",
    "id": "19LQkWhU-Ce8",
    "outputId": "25e0fc24-4d3f-48c6-b7d3-7681a7d73912"
   },
   "outputs": [
    {
     "data": {
      "text/plain": [
       "[[20,\n",
       "  8,\n",
       "  5,\n",
       "  0,\n",
       "  21,\n",
       "  14,\n",
       "  1,\n",
       "  14,\n",
       "  9,\n",
       "  13,\n",
       "  15,\n",
       "  21,\n",
       "  19,\n",
       "  0,\n",
       "  4,\n",
       "  5,\n",
       "  3,\n",
       "  12,\n",
       "  1,\n",
       "  18,\n",
       "  1,\n",
       "  20,\n",
       "  9,\n",
       "  15,\n",
       "  14,\n",
       "  0,\n",
       "  20,\n",
       "  8,\n",
       "  5,\n",
       "  0,\n",
       "  20],\n",
       " [8,\n",
       "  5,\n",
       "  0,\n",
       "  21,\n",
       "  14,\n",
       "  1,\n",
       "  14,\n",
       "  9,\n",
       "  13,\n",
       "  15,\n",
       "  21,\n",
       "  19,\n",
       "  0,\n",
       "  4,\n",
       "  5,\n",
       "  3,\n",
       "  12,\n",
       "  1,\n",
       "  18,\n",
       "  1,\n",
       "  20,\n",
       "  9,\n",
       "  15,\n",
       "  14,\n",
       "  0,\n",
       "  20,\n",
       "  8,\n",
       "  5,\n",
       "  0,\n",
       "  20,\n",
       "  8],\n",
       " [5,\n",
       "  0,\n",
       "  21,\n",
       "  14,\n",
       "  1,\n",
       "  14,\n",
       "  9,\n",
       "  13,\n",
       "  15,\n",
       "  21,\n",
       "  19,\n",
       "  0,\n",
       "  4,\n",
       "  5,\n",
       "  3,\n",
       "  12,\n",
       "  1,\n",
       "  18,\n",
       "  1,\n",
       "  20,\n",
       "  9,\n",
       "  15,\n",
       "  14,\n",
       "  0,\n",
       "  20,\n",
       "  8,\n",
       "  5,\n",
       "  0,\n",
       "  20,\n",
       "  8,\n",
       "  9],\n",
       " [0,\n",
       "  21,\n",
       "  14,\n",
       "  1,\n",
       "  14,\n",
       "  9,\n",
       "  13,\n",
       "  15,\n",
       "  21,\n",
       "  19,\n",
       "  0,\n",
       "  4,\n",
       "  5,\n",
       "  3,\n",
       "  12,\n",
       "  1,\n",
       "  18,\n",
       "  1,\n",
       "  20,\n",
       "  9,\n",
       "  15,\n",
       "  14,\n",
       "  0,\n",
       "  20,\n",
       "  8,\n",
       "  5,\n",
       "  0,\n",
       "  20,\n",
       "  8,\n",
       "  9,\n",
       "  18],\n",
       " [21,\n",
       "  14,\n",
       "  1,\n",
       "  14,\n",
       "  9,\n",
       "  13,\n",
       "  15,\n",
       "  21,\n",
       "  19,\n",
       "  0,\n",
       "  4,\n",
       "  5,\n",
       "  3,\n",
       "  12,\n",
       "  1,\n",
       "  18,\n",
       "  1,\n",
       "  20,\n",
       "  9,\n",
       "  15,\n",
       "  14,\n",
       "  0,\n",
       "  20,\n",
       "  8,\n",
       "  5,\n",
       "  0,\n",
       "  20,\n",
       "  8,\n",
       "  9,\n",
       "  18,\n",
       "  20]]"
      ]
     },
     "execution_count": 41,
     "metadata": {
      "tags": []
     },
     "output_type": "execute_result"
    }
   ],
   "source": [
    "sequences[:5]\n"
   ]
  },
  {
   "cell_type": "code",
   "execution_count": 0,
   "metadata": {
    "colab": {
     "base_uri": "https://localhost:8080/",
     "height": 34
    },
    "colab_type": "code",
    "id": "Q2klls4P-Ce_",
    "outputId": "0b515e4a-88fb-4c3a-beb5-06de2e14af2a"
   },
   "outputs": [
    {
     "data": {
      "text/plain": [
       "27"
      ]
     },
     "execution_count": 42,
     "metadata": {
      "tags": []
     },
     "output_type": "execute_result"
    }
   ],
   "source": [
    "# vocabulary size\n",
    "vocab = len(mapping)\n",
    "vocab"
   ]
  },
  {
   "cell_type": "code",
   "execution_count": 0,
   "metadata": {
    "colab": {
     "base_uri": "https://localhost:8080/",
     "height": 476
    },
    "colab_type": "code",
    "id": "v31JMDn4LRNF",
    "outputId": "141e9c0d-e290-4937-ed41-5b0b614b15e0"
   },
   "outputs": [
    {
     "data": {
      "text/plain": [
       "{' ': 0,\n",
       " 'a': 1,\n",
       " 'b': 2,\n",
       " 'c': 3,\n",
       " 'd': 4,\n",
       " 'e': 5,\n",
       " 'f': 6,\n",
       " 'g': 7,\n",
       " 'h': 8,\n",
       " 'i': 9,\n",
       " 'j': 10,\n",
       " 'k': 11,\n",
       " 'l': 12,\n",
       " 'm': 13,\n",
       " 'n': 14,\n",
       " 'o': 15,\n",
       " 'p': 16,\n",
       " 'q': 17,\n",
       " 'r': 18,\n",
       " 's': 19,\n",
       " 't': 20,\n",
       " 'u': 21,\n",
       " 'v': 22,\n",
       " 'w': 23,\n",
       " 'x': 24,\n",
       " 'y': 25,\n",
       " 'z': 26}"
      ]
     },
     "execution_count": 49,
     "metadata": {
      "tags": []
     },
     "output_type": "execute_result"
    }
   ],
   "source": [
    "mapping"
   ]
  },
  {
   "cell_type": "markdown",
   "metadata": {
    "colab_type": "text",
    "id": "W4TwVncruTaj"
   },
   "source": [
    "### Train and validation sets\n",
    "\n",
    "Once we are ready with our sequences, we split the data into training and validation splits. "
   ]
  },
  {
   "cell_type": "code",
   "execution_count": 0,
   "metadata": {
    "colab": {
     "base_uri": "https://localhost:8080/",
     "height": 34
    },
    "colab_type": "code",
    "id": "_GfZTZNi-CfC",
    "outputId": "d0382350-f4a4-40e7-9907-a91d36112603"
   },
   "outputs": [
    {
     "name": "stdout",
     "output_type": "stream",
     "text": [
      "Train shape: (5641, 30) Val shape: (1411, 30)\n"
     ]
    }
   ],
   "source": [
    "from sklearn.model_selection import train_test_split\n",
    "\n",
    "# vocabulary size\n",
    "vocab = len(mapping)\n",
    "sequences = np.array(sequences)\n",
    "# create X and y\n",
    "X, y = sequences[:,:-1], sequences[:,-1]\n",
    "# one hot encode y\n",
    "y = to_categorical(y, num_classes=vocab)\n",
    "# create train and validation sets\n",
    "X_tr, X_val, y_tr, y_val = train_test_split(X, y, test_size=0.2, random_state=42)\n",
    "\n",
    "print('Train shape:', X_tr.shape, 'Val shape:', X_val.shape)"
   ]
  },
  {
   "cell_type": "code",
   "execution_count": 0,
   "metadata": {
    "colab": {
     "base_uri": "https://localhost:8080/",
     "height": 34
    },
    "colab_type": "code",
    "id": "jStw_B9A-CfJ",
    "outputId": "cf0f5a87-719c-485b-fb27-f866e15b54b8"
   },
   "outputs": [
    {
     "data": {
      "text/plain": [
       "((5641, 30), (1411, 30))"
      ]
     },
     "execution_count": 44,
     "metadata": {
      "tags": []
     },
     "output_type": "execute_result"
    }
   ],
   "source": [
    "X_tr.shape, X_val.shape"
   ]
  },
  {
   "cell_type": "markdown",
   "metadata": {
    "colab_type": "text",
    "id": "54xfYW2zuZme"
   },
   "source": [
    "## GRU Model\n",
    "\n",
    "Time to build our language model!\n",
    "\n",
    " - We have used the embedding layer of Keras to learn a 50 dimension embedding for each character. \n",
    " - This helps the model in understanding complex relationships between characters. \n",
    " - The there is a GRU layer as the base model, which has 150 timesteps.\n",
    " -  Finally, a Dense layer is used with a softmax activation for prediction."
   ]
  },
  {
   "cell_type": "code",
   "execution_count": 0,
   "metadata": {
    "colab": {
     "base_uri": "https://localhost:8080/",
     "height": 272
    },
    "colab_type": "code",
    "id": "8QTZY1vT-CfM",
    "outputId": "e72918d7-10af-449f-92c0-10d651558c1e"
   },
   "outputs": [
    {
     "name": "stdout",
     "output_type": "stream",
     "text": [
      "Model: \"sequential_2\"\n",
      "_________________________________________________________________\n",
      "Layer (type)                 Output Shape              Param #   \n",
      "=================================================================\n",
      "embedding_2 (Embedding)      (None, 30, 50)            1350      \n",
      "_________________________________________________________________\n",
      "gru_2 (GRU)                  (None, 150)               90450     \n",
      "_________________________________________________________________\n",
      "dense_2 (Dense)              (None, 27)                4077      \n",
      "=================================================================\n",
      "Total params: 95,877\n",
      "Trainable params: 95,877\n",
      "Non-trainable params: 0\n",
      "_________________________________________________________________\n",
      "None\n"
     ]
    }
   ],
   "source": [
    "# define model\n",
    "model = Sequential()\n",
    "model.add(Embedding(vocab, 50, input_length=30, trainable=True))\n",
    "model.add(GRU(150, recurrent_dropout=0.1, dropout=0.1))\n",
    "model.add(Dense(vocab, activation='softmax'))\n",
    "print(model.summary())"
   ]
  },
  {
   "cell_type": "code",
   "execution_count": 0,
   "metadata": {
    "colab": {},
    "colab_type": "code",
    "id": "Z0yblmHD-vJm"
   },
   "outputs": [],
   "source": [
    "es = EarlyStopping(monitor='val_loss', mode='min', verbose=1, patience=2)  \n",
    "mc = ModelCheckpoint('best_model.h5', monitor='val_loss', mode='min', save_best_only=True,verbose=1)  "
   ]
  },
  {
   "cell_type": "code",
   "execution_count": 0,
   "metadata": {
    "colab": {
     "base_uri": "https://localhost:8080/",
     "height": 1000
    },
    "colab_type": "code",
    "id": "J8-cNjtd-CfP",
    "outputId": "0815658e-3c82-4aa4-ccf9-a3198b57700c",
    "scrolled": true
   },
   "outputs": [
    {
     "name": "stdout",
     "output_type": "stream",
     "text": [
      "Train on 5641 samples, validate on 1411 samples\n",
      "Epoch 1/100\n",
      " - 8s - loss: 2.7741 - acc: 0.2014 - val_loss: 2.4115 - val_acc: 0.2948\n",
      "Epoch 2/100\n",
      " - 7s - loss: 2.3204 - acc: 0.3202 - val_loss: 2.2329 - val_acc: 0.3288\n",
      "Epoch 3/100\n",
      " - 7s - loss: 2.1941 - acc: 0.3542 - val_loss: 2.1571 - val_acc: 0.3544\n",
      "Epoch 4/100\n",
      " - 7s - loss: 2.1029 - acc: 0.3762 - val_loss: 2.0941 - val_acc: 0.3863\n",
      "Epoch 5/100\n",
      " - 7s - loss: 2.0240 - acc: 0.3951 - val_loss: 2.0123 - val_acc: 0.4047\n",
      "Epoch 6/100\n",
      " - 7s - loss: 1.9498 - acc: 0.4157 - val_loss: 1.9688 - val_acc: 0.4174\n",
      "Epoch 7/100\n",
      " - 7s - loss: 1.8767 - acc: 0.4359 - val_loss: 1.9330 - val_acc: 0.4380\n",
      "Epoch 8/100\n",
      " - 7s - loss: 1.8112 - acc: 0.4547 - val_loss: 1.9075 - val_acc: 0.4344\n",
      "Epoch 9/100\n",
      " - 7s - loss: 1.7373 - acc: 0.4698 - val_loss: 1.8745 - val_acc: 0.4472\n",
      "Epoch 10/100\n",
      " - 7s - loss: 1.6768 - acc: 0.4907 - val_loss: 1.8700 - val_acc: 0.4437\n",
      "Epoch 11/100\n",
      " - 7s - loss: 1.6116 - acc: 0.5114 - val_loss: 1.8452 - val_acc: 0.4727\n",
      "Epoch 12/100\n",
      " - 7s - loss: 1.5443 - acc: 0.5354 - val_loss: 1.8374 - val_acc: 0.4585\n",
      "Epoch 13/100\n",
      " - 7s - loss: 1.4733 - acc: 0.5531 - val_loss: 1.8318 - val_acc: 0.4649\n",
      "Epoch 14/100\n",
      " - 7s - loss: 1.4324 - acc: 0.5593 - val_loss: 1.8163 - val_acc: 0.4841\n",
      "Epoch 15/100\n",
      " - 7s - loss: 1.3531 - acc: 0.5873 - val_loss: 1.8316 - val_acc: 0.4855\n",
      "Epoch 16/100\n",
      " - 7s - loss: 1.3114 - acc: 0.5903 - val_loss: 1.8592 - val_acc: 0.4791\n",
      "Epoch 17/100\n",
      " - 7s - loss: 1.2476 - acc: 0.6194 - val_loss: 1.8488 - val_acc: 0.4826\n",
      "Epoch 18/100\n",
      " - 7s - loss: 1.1954 - acc: 0.6293 - val_loss: 1.8660 - val_acc: 0.4876\n",
      "Epoch 19/100\n",
      " - 8s - loss: 1.1513 - acc: 0.6453 - val_loss: 1.8578 - val_acc: 0.4890\n",
      "Epoch 20/100\n",
      " - 7s - loss: 1.1045 - acc: 0.6572 - val_loss: 1.8793 - val_acc: 0.4918\n",
      "Epoch 21/100\n",
      " - 7s - loss: 1.0551 - acc: 0.6706 - val_loss: 1.8847 - val_acc: 0.4968\n",
      "Epoch 22/100\n",
      " - 7s - loss: 1.0162 - acc: 0.6758 - val_loss: 1.9184 - val_acc: 0.4940\n",
      "Epoch 23/100\n",
      " - 7s - loss: 0.9791 - acc: 0.6962 - val_loss: 1.9228 - val_acc: 0.4975\n",
      "Epoch 24/100\n",
      " - 7s - loss: 0.9381 - acc: 0.7040 - val_loss: 1.9501 - val_acc: 0.4933\n",
      "Epoch 25/100\n",
      " - 7s - loss: 0.9017 - acc: 0.7220 - val_loss: 1.9671 - val_acc: 0.4897\n",
      "Epoch 26/100\n",
      " - 7s - loss: 0.8772 - acc: 0.7334 - val_loss: 2.0144 - val_acc: 0.4883\n",
      "Epoch 27/100\n",
      " - 7s - loss: 0.8383 - acc: 0.7391 - val_loss: 2.0206 - val_acc: 0.4911\n",
      "Epoch 28/100\n",
      " - 7s - loss: 0.8077 - acc: 0.7414 - val_loss: 2.0367 - val_acc: 0.4954\n",
      "Epoch 29/100\n",
      " - 7s - loss: 0.7901 - acc: 0.7490 - val_loss: 2.0833 - val_acc: 0.4904\n",
      "Epoch 30/100\n",
      " - 7s - loss: 0.7535 - acc: 0.7603 - val_loss: 2.0974 - val_acc: 0.4777\n",
      "Epoch 31/100\n",
      " - 7s - loss: 0.7385 - acc: 0.7662 - val_loss: 2.1078 - val_acc: 0.4926\n",
      "Epoch 32/100\n",
      " - 7s - loss: 0.7171 - acc: 0.7736 - val_loss: 2.1068 - val_acc: 0.4890\n",
      "Epoch 33/100\n",
      " - 7s - loss: 0.7049 - acc: 0.7757 - val_loss: 2.1533 - val_acc: 0.4791\n",
      "Epoch 34/100\n",
      " - 7s - loss: 0.6773 - acc: 0.7873 - val_loss: 2.1850 - val_acc: 0.4784\n",
      "Epoch 35/100\n",
      " - 7s - loss: 0.6632 - acc: 0.7857 - val_loss: 2.1770 - val_acc: 0.4826\n",
      "Epoch 36/100\n",
      " - 7s - loss: 0.6400 - acc: 0.7990 - val_loss: 2.1798 - val_acc: 0.4819\n",
      "Epoch 37/100\n",
      " - 7s - loss: 0.6236 - acc: 0.8009 - val_loss: 2.2338 - val_acc: 0.4918\n",
      "Epoch 38/100\n",
      " - 7s - loss: 0.5876 - acc: 0.8133 - val_loss: 2.2677 - val_acc: 0.4791\n",
      "Epoch 39/100\n",
      " - 7s - loss: 0.6007 - acc: 0.8075 - val_loss: 2.2867 - val_acc: 0.4777\n",
      "Epoch 40/100\n",
      " - 7s - loss: 0.5703 - acc: 0.8213 - val_loss: 2.2899 - val_acc: 0.4812\n",
      "Epoch 41/100\n",
      " - 7s - loss: 0.5652 - acc: 0.8218 - val_loss: 2.3479 - val_acc: 0.4883\n",
      "Epoch 42/100\n",
      " - 7s - loss: 0.5474 - acc: 0.8257 - val_loss: 2.3710 - val_acc: 0.4713\n",
      "Epoch 43/100\n",
      " - 7s - loss: 0.5500 - acc: 0.8259 - val_loss: 2.3834 - val_acc: 0.4713\n",
      "Epoch 44/100\n",
      " - 7s - loss: 0.5382 - acc: 0.8303 - val_loss: 2.4164 - val_acc: 0.4755\n",
      "Epoch 45/100\n",
      " - 7s - loss: 0.5125 - acc: 0.8385 - val_loss: 2.4347 - val_acc: 0.4727\n",
      "Epoch 46/100\n",
      " - 7s - loss: 0.5069 - acc: 0.8413 - val_loss: 2.4568 - val_acc: 0.4734\n",
      "Epoch 47/100\n",
      " - 7s - loss: 0.4975 - acc: 0.8351 - val_loss: 2.4998 - val_acc: 0.4656\n",
      "Epoch 48/100\n",
      " - 7s - loss: 0.4883 - acc: 0.8440 - val_loss: 2.4756 - val_acc: 0.4770\n",
      "Epoch 49/100\n",
      " - 7s - loss: 0.4889 - acc: 0.8410 - val_loss: 2.5063 - val_acc: 0.4727\n",
      "Epoch 50/100\n",
      " - 7s - loss: 0.4715 - acc: 0.8486 - val_loss: 2.4878 - val_acc: 0.4812\n",
      "Epoch 51/100\n",
      " - 7s - loss: 0.4681 - acc: 0.8490 - val_loss: 2.5447 - val_acc: 0.4798\n",
      "Epoch 52/100\n",
      " - 7s - loss: 0.4621 - acc: 0.8514 - val_loss: 2.5597 - val_acc: 0.4748\n",
      "Epoch 53/100\n",
      " - 7s - loss: 0.4417 - acc: 0.8630 - val_loss: 2.5893 - val_acc: 0.4770\n",
      "Epoch 54/100\n",
      " - 7s - loss: 0.4401 - acc: 0.8592 - val_loss: 2.5865 - val_acc: 0.4734\n",
      "Epoch 55/100\n",
      " - 7s - loss: 0.4357 - acc: 0.8566 - val_loss: 2.6045 - val_acc: 0.4770\n",
      "Epoch 56/100\n",
      " - 7s - loss: 0.4275 - acc: 0.8552 - val_loss: 2.6663 - val_acc: 0.4663\n",
      "Epoch 57/100\n",
      " - 7s - loss: 0.4258 - acc: 0.8646 - val_loss: 2.6452 - val_acc: 0.4692\n",
      "Epoch 58/100\n",
      " - 7s - loss: 0.4276 - acc: 0.8584 - val_loss: 2.6774 - val_acc: 0.4699\n",
      "Epoch 59/100\n",
      " - 7s - loss: 0.4075 - acc: 0.8633 - val_loss: 2.6955 - val_acc: 0.4656\n",
      "Epoch 60/100\n",
      " - 7s - loss: 0.4120 - acc: 0.8690 - val_loss: 2.7419 - val_acc: 0.4706\n",
      "Epoch 61/100\n",
      " - 7s - loss: 0.4129 - acc: 0.8631 - val_loss: 2.7395 - val_acc: 0.4628\n",
      "Epoch 62/100\n",
      " - 7s - loss: 0.3997 - acc: 0.8699 - val_loss: 2.7455 - val_acc: 0.4614\n",
      "Epoch 63/100\n",
      " - 7s - loss: 0.3964 - acc: 0.8669 - val_loss: 2.8049 - val_acc: 0.4600\n",
      "Epoch 64/100\n",
      " - 7s - loss: 0.3871 - acc: 0.8747 - val_loss: 2.7927 - val_acc: 0.4642\n",
      "Epoch 65/100\n",
      " - 7s - loss: 0.3837 - acc: 0.8761 - val_loss: 2.7770 - val_acc: 0.4692\n",
      "Epoch 66/100\n",
      " - 7s - loss: 0.3687 - acc: 0.8848 - val_loss: 2.7883 - val_acc: 0.4692\n",
      "Epoch 67/100\n",
      " - 7s - loss: 0.3984 - acc: 0.8663 - val_loss: 2.8209 - val_acc: 0.4692\n",
      "Epoch 68/100\n",
      " - 7s - loss: 0.3648 - acc: 0.8787 - val_loss: 2.8307 - val_acc: 0.4699\n",
      "Epoch 69/100\n",
      " - 7s - loss: 0.3805 - acc: 0.8745 - val_loss: 2.8260 - val_acc: 0.4656\n",
      "Epoch 70/100\n",
      " - 7s - loss: 0.3730 - acc: 0.8761 - val_loss: 2.8511 - val_acc: 0.4755\n",
      "Epoch 71/100\n",
      " - 7s - loss: 0.3656 - acc: 0.8818 - val_loss: 2.8662 - val_acc: 0.4748\n",
      "Epoch 72/100\n",
      " - 7s - loss: 0.3709 - acc: 0.8796 - val_loss: 2.8644 - val_acc: 0.4685\n",
      "Epoch 73/100\n",
      " - 7s - loss: 0.3560 - acc: 0.8842 - val_loss: 2.9001 - val_acc: 0.4663\n",
      "Epoch 74/100\n",
      " - 7s - loss: 0.3390 - acc: 0.8894 - val_loss: 2.9073 - val_acc: 0.4628\n",
      "Epoch 75/100\n",
      " - 7s - loss: 0.3550 - acc: 0.8851 - val_loss: 2.9348 - val_acc: 0.4642\n",
      "Epoch 76/100\n",
      " - 7s - loss: 0.3492 - acc: 0.8887 - val_loss: 2.9653 - val_acc: 0.4635\n",
      "Epoch 77/100\n",
      " - 7s - loss: 0.3276 - acc: 0.8951 - val_loss: 2.9730 - val_acc: 0.4592\n",
      "Epoch 78/100\n",
      " - 7s - loss: 0.3547 - acc: 0.8825 - val_loss: 2.9782 - val_acc: 0.4713\n",
      "Epoch 79/100\n",
      " - 7s - loss: 0.3180 - acc: 0.8986 - val_loss: 2.9816 - val_acc: 0.4670\n",
      "Epoch 80/100\n",
      " - 7s - loss: 0.3343 - acc: 0.8890 - val_loss: 2.9686 - val_acc: 0.4678\n",
      "Epoch 81/100\n",
      " - 7s - loss: 0.3344 - acc: 0.8917 - val_loss: 3.0125 - val_acc: 0.4600\n",
      "Epoch 82/100\n",
      " - 7s - loss: 0.3292 - acc: 0.8913 - val_loss: 3.0187 - val_acc: 0.4600\n",
      "Epoch 83/100\n",
      " - 7s - loss: 0.3280 - acc: 0.8949 - val_loss: 3.0268 - val_acc: 0.4663\n",
      "Epoch 84/100\n",
      " - 7s - loss: 0.3300 - acc: 0.8919 - val_loss: 3.0677 - val_acc: 0.4621\n",
      "Epoch 85/100\n",
      " - 7s - loss: 0.3094 - acc: 0.8981 - val_loss: 3.0882 - val_acc: 0.4614\n",
      "Epoch 86/100\n",
      " - 7s - loss: 0.3184 - acc: 0.8945 - val_loss: 3.1258 - val_acc: 0.4585\n",
      "Epoch 87/100\n",
      " - 7s - loss: 0.3137 - acc: 0.8975 - val_loss: 3.0853 - val_acc: 0.4614\n",
      "Epoch 88/100\n",
      " - 7s - loss: 0.3058 - acc: 0.9032 - val_loss: 3.1031 - val_acc: 0.4678\n",
      "Epoch 89/100\n",
      " - 7s - loss: 0.3023 - acc: 0.9023 - val_loss: 3.1045 - val_acc: 0.4635\n",
      "Epoch 90/100\n",
      " - 7s - loss: 0.3123 - acc: 0.8988 - val_loss: 3.1544 - val_acc: 0.4600\n",
      "Epoch 91/100\n",
      " - 7s - loss: 0.3050 - acc: 0.8982 - val_loss: 3.1354 - val_acc: 0.4607\n",
      "Epoch 92/100\n",
      " - 7s - loss: 0.3078 - acc: 0.8974 - val_loss: 3.1649 - val_acc: 0.4642\n",
      "Epoch 93/100\n",
      " - 7s - loss: 0.3093 - acc: 0.9020 - val_loss: 3.1859 - val_acc: 0.4571\n",
      "Epoch 94/100\n",
      " - 7s - loss: 0.3150 - acc: 0.8935 - val_loss: 3.1817 - val_acc: 0.4699\n",
      "Epoch 95/100\n",
      " - 7s - loss: 0.3037 - acc: 0.8968 - val_loss: 3.1910 - val_acc: 0.4550\n",
      "Epoch 96/100\n",
      " - 7s - loss: 0.3012 - acc: 0.8986 - val_loss: 3.1933 - val_acc: 0.4529\n",
      "Epoch 97/100\n",
      " - 7s - loss: 0.2776 - acc: 0.9091 - val_loss: 3.2278 - val_acc: 0.4592\n",
      "Epoch 98/100\n",
      " - 7s - loss: 0.2800 - acc: 0.9138 - val_loss: 3.2275 - val_acc: 0.4607\n",
      "Epoch 99/100\n",
      " - 7s - loss: 0.2881 - acc: 0.9043 - val_loss: 3.2548 - val_acc: 0.4522\n",
      "Epoch 100/100\n",
      " - 7s - loss: 0.2924 - acc: 0.9076 - val_loss: 3.2638 - val_acc: 0.4678\n"
     ]
    },
    {
     "data": {
      "text/plain": [
       "<keras.callbacks.History at 0x7fbf5a7122e8>"
      ]
     },
     "execution_count": 47,
     "metadata": {
      "tags": []
     },
     "output_type": "execute_result"
    }
   ],
   "source": [
    "model.compile(loss='categorical_crossentropy', metrics=['acc'], optimizer='adam')\n",
    "model.fit(X_tr, y_tr, epochs=100, verbose=2, validation_data=(X_val, y_val))"
   ]
  },
  {
   "cell_type": "markdown",
   "metadata": {
    "colab_type": "text",
    "id": "yhhdpU-fupIu"
   },
   "source": [
    "## Inference - Generating output sequence\n",
    "\n",
    "Once the model has finished training, we can generate text from the model given an input sequence using the below code:\n",
    "\n"
   ]
  },
  {
   "cell_type": "code",
   "execution_count": 0,
   "metadata": {
    "colab": {},
    "colab_type": "code",
    "id": "wL7vrA3o-CfS"
   },
   "outputs": [],
   "source": [
    "# generate a sequence of characters with a language model\n",
    "def generate_seq(model, mapping, seq_length, seed_text, n_chars):\n",
    "\tin_text = seed_text\n",
    "\t# generate a fixed number of characters\n",
    "\tfor _ in range(n_chars):\n",
    "\t\t# encode the characters as integers\n",
    "\t\tencoded = [mapping[char] for char in in_text]\n",
    "\t\t# truncate sequences to a fixed length\n",
    "\t\tencoded = pad_sequences([encoded], maxlen=seq_length, truncating='pre')\n",
    "\t\t# predict character\n",
    "\t\tyhat = model.predict_classes(encoded, verbose=0)\n",
    "\t\t# reverse map integer to character\n",
    "\t\tout_char = ''\n",
    "\t\tfor char, index in mapping.items():\n",
    "\t\t\tif index == yhat:\n",
    "\t\t\t\tout_char = char\n",
    "\t\t\t\tbreak\n",
    "\t\t# append to input\n",
    "\t\tin_text += char\n",
    "\treturn in_text"
   ]
  },
  {
   "cell_type": "markdown",
   "metadata": {
    "colab_type": "text",
    "id": "0d6tqxS7uvO-"
   },
   "source": [
    "## Output\n",
    "\n",
    "Let's see what is the output of our model!"
   ]
  },
  {
   "cell_type": "code",
   "execution_count": 0,
   "metadata": {
    "colab": {
     "base_uri": "https://localhost:8080/",
     "height": 51
    },
    "colab_type": "code",
    "id": "1ilXEKDG-CfU",
    "outputId": "4670bbce-56c3-40d2-8ca4-c12a5de06ce1"
   },
   "outputs": [
    {
     "name": "stdout",
     "output_type": "stream",
     "text": [
      "15\n",
      "large armies offices and destroye the lives o\n"
     ]
    }
   ],
   "source": [
    "inp = 'large armies of'\n",
    "print(len(inp))\n",
    "print(generate_seq(model, mapping, 30, inp.lower(), 30))"
   ]
  },
  {
   "cell_type": "code",
   "execution_count": 0,
   "metadata": {
    "colab": {},
    "colab_type": "code",
    "id": "ExYeFRzG14HA"
   },
   "outputs": [],
   "source": []
  }
 ],
 "metadata": {
  "accelerator": "TPU",
  "colab": {
   "collapsed_sections": [
    "a9BCyYOjtPd4",
    "54xfYW2zuZme",
    "yhhdpU-fupIu",
    "0d6tqxS7uvO-"
   ],
   "name": "Character_LM_Course.ipynb",
   "provenance": [],
   "version": "0.3.2"
  },
  "kernelspec": {
   "display_name": "Python 3",
   "language": "python",
   "name": "python3"
  },
  "language_info": {
   "codemirror_mode": {
    "name": "ipython",
    "version": 3
   },
   "file_extension": ".py",
   "mimetype": "text/x-python",
   "name": "python",
   "nbconvert_exporter": "python",
   "pygments_lexer": "ipython3",
   "version": "3.6.9"
  }
 },
 "nbformat": 4,
 "nbformat_minor": 1
}
