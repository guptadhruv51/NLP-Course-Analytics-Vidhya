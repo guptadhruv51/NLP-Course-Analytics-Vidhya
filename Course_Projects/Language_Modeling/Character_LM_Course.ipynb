{
 "cells": [
  {
   "cell_type": "markdown",
   "metadata": {
    "colab_type": "text",
    "id": "LUYj4cBds7DT"
   },
   "source": [
    "# Neural Language Model using RNN\n",
    "\n",
    " - We can essentially build two kinds of language models – character level and word level. \n",
    " - And even under each category, we can have many subcategories based on the simple fact of how we are framing the learning problem. \n",
    " - We will be taking the most straightforward approach – building a character-level language model.\n",
    "\n"
   ]
  },
  {
   "cell_type": "markdown",
   "metadata": {
    "colab_type": "text",
    "id": "MOXIqSCOs7Hf"
   },
   "source": [
    "## Importing required libraries"
   ]
  },
  {
   "cell_type": "code",
   "execution_count": 1,
   "metadata": {
    "colab": {},
    "colab_type": "code",
    "id": "NTmCSYMe-Cel"
   },
   "outputs": [
    {
     "name": "stderr",
     "output_type": "stream",
     "text": [
      "Using TensorFlow backend.\n",
      "/Users/guptadhruv51/anaconda3/lib/python3.6/site-packages/tensorflow/python/framework/dtypes.py:516: FutureWarning: Passing (type, 1) or '1type' as a synonym of type is deprecated; in a future version of numpy, it will be understood as (type, (1,)) / '(1,)type'.\n",
      "  _np_qint8 = np.dtype([(\"qint8\", np.int8, 1)])\n",
      "/Users/guptadhruv51/anaconda3/lib/python3.6/site-packages/tensorflow/python/framework/dtypes.py:517: FutureWarning: Passing (type, 1) or '1type' as a synonym of type is deprecated; in a future version of numpy, it will be understood as (type, (1,)) / '(1,)type'.\n",
      "  _np_quint8 = np.dtype([(\"quint8\", np.uint8, 1)])\n",
      "/Users/guptadhruv51/anaconda3/lib/python3.6/site-packages/tensorflow/python/framework/dtypes.py:518: FutureWarning: Passing (type, 1) or '1type' as a synonym of type is deprecated; in a future version of numpy, it will be understood as (type, (1,)) / '(1,)type'.\n",
      "  _np_qint16 = np.dtype([(\"qint16\", np.int16, 1)])\n",
      "/Users/guptadhruv51/anaconda3/lib/python3.6/site-packages/tensorflow/python/framework/dtypes.py:519: FutureWarning: Passing (type, 1) or '1type' as a synonym of type is deprecated; in a future version of numpy, it will be understood as (type, (1,)) / '(1,)type'.\n",
      "  _np_quint16 = np.dtype([(\"quint16\", np.uint16, 1)])\n",
      "/Users/guptadhruv51/anaconda3/lib/python3.6/site-packages/tensorflow/python/framework/dtypes.py:520: FutureWarning: Passing (type, 1) or '1type' as a synonym of type is deprecated; in a future version of numpy, it will be understood as (type, (1,)) / '(1,)type'.\n",
      "  _np_qint32 = np.dtype([(\"qint32\", np.int32, 1)])\n",
      "/Users/guptadhruv51/anaconda3/lib/python3.6/site-packages/tensorflow/python/framework/dtypes.py:525: FutureWarning: Passing (type, 1) or '1type' as a synonym of type is deprecated; in a future version of numpy, it will be understood as (type, (1,)) / '(1,)type'.\n",
      "  np_resource = np.dtype([(\"resource\", np.ubyte, 1)])\n",
      "/Users/guptadhruv51/anaconda3/lib/python3.6/site-packages/tensorboard/compat/tensorflow_stub/dtypes.py:541: FutureWarning: Passing (type, 1) or '1type' as a synonym of type is deprecated; in a future version of numpy, it will be understood as (type, (1,)) / '(1,)type'.\n",
      "  _np_qint8 = np.dtype([(\"qint8\", np.int8, 1)])\n",
      "/Users/guptadhruv51/anaconda3/lib/python3.6/site-packages/tensorboard/compat/tensorflow_stub/dtypes.py:542: FutureWarning: Passing (type, 1) or '1type' as a synonym of type is deprecated; in a future version of numpy, it will be understood as (type, (1,)) / '(1,)type'.\n",
      "  _np_quint8 = np.dtype([(\"quint8\", np.uint8, 1)])\n",
      "/Users/guptadhruv51/anaconda3/lib/python3.6/site-packages/tensorboard/compat/tensorflow_stub/dtypes.py:543: FutureWarning: Passing (type, 1) or '1type' as a synonym of type is deprecated; in a future version of numpy, it will be understood as (type, (1,)) / '(1,)type'.\n",
      "  _np_qint16 = np.dtype([(\"qint16\", np.int16, 1)])\n",
      "/Users/guptadhruv51/anaconda3/lib/python3.6/site-packages/tensorboard/compat/tensorflow_stub/dtypes.py:544: FutureWarning: Passing (type, 1) or '1type' as a synonym of type is deprecated; in a future version of numpy, it will be understood as (type, (1,)) / '(1,)type'.\n",
      "  _np_quint16 = np.dtype([(\"quint16\", np.uint16, 1)])\n",
      "/Users/guptadhruv51/anaconda3/lib/python3.6/site-packages/tensorboard/compat/tensorflow_stub/dtypes.py:545: FutureWarning: Passing (type, 1) or '1type' as a synonym of type is deprecated; in a future version of numpy, it will be understood as (type, (1,)) / '(1,)type'.\n",
      "  _np_qint32 = np.dtype([(\"qint32\", np.int32, 1)])\n",
      "/Users/guptadhruv51/anaconda3/lib/python3.6/site-packages/tensorboard/compat/tensorflow_stub/dtypes.py:550: FutureWarning: Passing (type, 1) or '1type' as a synonym of type is deprecated; in a future version of numpy, it will be understood as (type, (1,)) / '(1,)type'.\n",
      "  np_resource = np.dtype([(\"resource\", np.ubyte, 1)])\n"
     ]
    }
   ],
   "source": [
    "import numpy as np\n",
    "import pandas as pd\n",
    "from keras.utils import to_categorical\n",
    "from keras.preprocessing.sequence import pad_sequences\n",
    "from keras.models import Sequential\n",
    "from keras.layers import LSTM, Dense, GRU, Embedding\n",
    "from keras.callbacks import EarlyStopping, ModelCheckpoint"
   ]
  },
  {
   "cell_type": "markdown",
   "metadata": {
    "colab_type": "text",
    "id": "WHBKoRmJtLaj"
   },
   "source": [
    "## Dataset\n",
    "\n",
    "<img src=\"https://s3-ap-south-1.amazonaws.com/av-blog-media/wp-content/uploads/2019/08/vc51.jpg\" width=200 ></img>\n",
    "\n",
    " - Does the above text seem familiar? It’s the US Declaration of Independence! The dataset we will use is the text from this Declaration.\n",
    "\n",
    " - This is a historically important document because it was signed when the United States of America got independence from the British.\n",
    "\n",
    " - It’s the right size to experiment with because we are training a character-level language model which is comparatively more intensive to run as compared to a word-level language model.\n",
    "\n",
    " - The problem statement is to train a language model on the given text and then generate text given an input text in such a way that it looks straight out of this document and is grammatically correct and legible to read."
   ]
  },
  {
   "cell_type": "code",
   "execution_count": 2,
   "metadata": {
    "colab": {},
    "colab_type": "code",
    "id": "rTOLEV8wroR9"
   },
   "outputs": [],
   "source": [
    "data_text = \"\"\"The unanimous Declaration of the thirteen united States of America, When in the Course of human events, it becomes necessary for one people to dissolve the political bands which have connected them with another, and to assume among the powers of the earth, the separate and equal station to which the Laws of Nature and of Nature's God entitle them, a decent respect to the opinions of mankind requires that they should declare the causes which impel them to the separation.\n",
    "\n",
    "We hold these truths to be self-evident, that all men are created equal, that they are endowed by their Creator with certain unalienable Rights, that among these are Life, Liberty and the pursuit of Happiness.--That to secure these rights, Governments are instituted among Men, deriving their just powers from the consent of the governed, --That whenever any Form of Government becomes destructive of these ends, it is the Right of the People to alter or to abolish it, and to institute new Government, laying its foundation on such principles and organizing its powers in such form, as to them shall seem most likely to effect their Safety and Happiness. Prudence, indeed, will dictate that Governments long established should not be changed for light and transient causes; and accordingly all experience hath shewn, that mankind are more disposed to suffer, while evils are sufferable, than to right themselves by abolishing the forms to which they are accustomed. But when a long train of abuses and usurpations, pursuing invariably the same Object evinces a design to reduce them under absolute Despotism, it is their right, it is their duty, to throw off such Government, and to provide new Guards for their future security.--Such has been the patient sufferance of these Colonies; and such is now the necessity which constrains them to alter their former Systems of Government. The history of the present King of Great Britain is a history of repeated injuries and usurpations, all having in direct object the establishment of an absolute Tyranny over these States. To prove this, let Facts be submitted to a candid world.\n",
    "\n",
    "He has refused his Assent to Laws, the most wholesome and necessary for the public good.\n",
    "\n",
    "He has forbidden his Governors to pass Laws of immediate and pressing importance, unless suspended in their operation till his Assent should be obtained; and when so suspended, he has utterly neglected to attend to them.\n",
    "\n",
    "He has refused to pass other Laws for the accommodation of large districts of people, unless those people would relinquish the right of Representation in the Legislature, a right inestimable to them and formidable to tyrants only.\n",
    "\n",
    "He has called together legislative bodies at places unusual, uncomfortable, and distant from the depository of their public Records, for the sole purpose of fatiguing them into compliance with his measures.\n",
    "\n",
    "He has dissolved Representative Houses repeatedly, for opposing with manly firmness his invasions on the rights of the people.\n",
    "\n",
    "He has refused for a long time, after such dissolutions, to cause others to be elected; whereby the Legislative powers, incapable of Annihilation, have returned to the People at large for their exercise; the State remaining in the mean time exposed to all the dangers of invasion from without, and convulsions within.\n",
    "\n",
    "He has endeavoured to prevent the population of these States; for that purpose obstructing the Laws for Naturalization of Foreigners; refusing to pass others to encourage their migrations hither, and raising the conditions of new Appropriations of Lands.\n",
    "\n",
    "He has obstructed the Administration of Justice, by refusing his Assent to Laws for establishing Judiciary powers.\n",
    "\n",
    "He has made Judges dependent on his Will alone, for the tenure of their offices, and the amount and payment of their salaries.\n",
    "\n",
    "He has erected a multitude of New Offices, and sent hither swarms of Officers to harrass our people, and eat out their substance.\n",
    "\n",
    "He has kept among us, in times of peace, Standing Armies without the Consent of our legislatures.\n",
    "\n",
    "He has affected to render the Military independent of and superior to the Civil power.\n",
    "\n",
    "He has combined with others to subject us to a jurisdiction foreign to our constitution, and unacknowledged by our laws; giving his Assent to their Acts of pretended Legislation:\n",
    "\n",
    "For Quartering large bodies of armed troops among us:\n",
    "\n",
    "For protecting them, by a mock Trial, from punishment for any Murders which they should commit on the Inhabitants of these States:\n",
    "\n",
    "For cutting off our Trade with all parts of the world:\n",
    "\n",
    "For imposing Taxes on us without our Consent:\n",
    "\n",
    "For depriving us in many cases, of the benefits of Trial by Jury:\n",
    "\n",
    "For transporting us beyond Seas to be tried for pretended offences\n",
    "\n",
    "For abolishing the free System of English Laws in a neighbouring Province, establishing therein an Arbitrary government, and enlarging its Boundaries so as to render it at once an example and fit instrument for introducing the same absolute rule into these Colonies:\n",
    "\n",
    "For taking away our Charters, abolishing our most valuable Laws, and altering fundamentally the Forms of our Governments:\n",
    "\n",
    "For suspending our own Legislatures, and declaring themselves invested with power to legislate for us in all cases whatsoever.\n",
    "\n",
    "He has abdicated Government here, by declaring us out of his Protection and waging War against us.\n",
    "\n",
    "He has plundered our seas, ravaged our Coasts, burnt our towns, and destroyed the lives of our people.\n",
    "\n",
    "He is at this time transporting large Armies of foreign Mercenaries to compleat the works of death, desolation and tyranny, already begun with circumstances of Cruelty & perfidy scarcely paralleled in the most barbarous ages, and totally unworthy the Head of a civilized nation.\n",
    "\n",
    "He has constrained our fellow Citizens taken Captive on the high Seas to bear Arms against their Country, to become the executioners of their friends and Brethren, or to fall themselves by their Hands.\n",
    "\n",
    "He has excited domestic insurrections amongst us, and has endeavoured to bring on the inhabitants of our frontiers, the merciless Indian Savages, whose known rule of warfare, is an undistinguished destruction of all ages, sexes and conditions.\n",
    "\n",
    "In every stage of these Oppressions We have Petitioned for Redress in the most humble terms: Our repeated Petitions have been answered only by repeated injury. A Prince whose character is thus marked by every act which may define a Tyrant, is unfit to be the ruler of a free people.\n",
    "\n",
    "Nor have We been wanting in attentions to our Brittish brethren. We have warned them from time to time of attempts by their legislature to extend an unwarrantable jurisdiction over us. We have reminded them of the circumstances of our emigration and settlement here. We have appealed to their native justice and magnanimity, and we have conjured them by the ties of our common kindred to disavow these usurpations, which, would inevitably interrupt our connections and correspondence. They too have been deaf to the voice of justice and of consanguinity. We must, therefore, acquiesce in the necessity, which denounces our Separation, and hold them, as we hold the rest of mankind, Enemies in War, in Peace Friends.\n",
    "\n",
    "We, therefore, the Representatives of the united States of America, in General Congress, Assembled, appealing to the Supreme Judge of the world for the rectitude of our intentions, do, in the Name, and by Authority of the good People of these Colonies, solemnly publish and declare, That these United Colonies are, and of Right ought to be Free and Independent States; that they are Absolved from all Allegiance to the British Crown, and that all political connection between them and the State of Great Britain, is and ought to be totally dissolved; and that as Free and Independent States, they have full Power to levy War, conclude Peace, contract Alliances, establish Commerce, and to do all other Acts and Things which Independent States may of right do. And for the support of this Declaration, with a firm reliance on the protection of divine Providence, we mutually pledge to each other our Lives, our Fortunes and our sacred Honor.\"\"\""
   ]
  },
  {
   "cell_type": "markdown",
   "metadata": {
    "colab_type": "text",
    "id": "a9BCyYOjtPd4"
   },
   "source": [
    "## Preprocessing the data\n",
    "\n",
    "### Cleaning\n",
    "\n",
    " - We perform basic text preprocessing since this data does not have much noise. \n",
    " - We lower case all the words to maintain uniformity and remove words with length less than 3\n"
   ]
  },
  {
   "cell_type": "code",
   "execution_count": 3,
   "metadata": {
    "colab": {},
    "colab_type": "code",
    "id": "4MnGed5w-Cep"
   },
   "outputs": [],
   "source": [
    "import re\n",
    "\n",
    "def text_cleaner(text):\n",
    "    # lower case text\n",
    "    newString = text.lower()\n",
    "    newString = re.sub(r\"'s\\b\",\"\",newString)\n",
    "    # remove punctuations\n",
    "    newString = re.sub(\"[^a-zA-Z]\", \" \", newString) \n",
    "    long_words=[]\n",
    "    # remove short word\n",
    "    for i in newString.split():\n",
    "        if len(i)>=3:                  \n",
    "            long_words.append(i)\n",
    "    return (\" \".join(long_words)).strip()\n"
   ]
  },
  {
   "cell_type": "code",
   "execution_count": 4,
   "metadata": {
    "colab": {
     "base_uri": "https://localhost:8080/",
     "height": 122
    },
    "colab_type": "code",
    "id": "oV_F692wgRm5",
    "outputId": "c4e57849-a48e-4734-9f6b-ee139945e109"
   },
   "outputs": [
    {
     "name": "stdout",
     "output_type": "stream",
     "text": [
      "RAW TEXT:\n",
      " The unanimous Declaration of the thirteen united States of America, When in the Course of human events, it becomes necessary for one people to dissolv\n",
      "\n",
      "PROCESSED TEXT:\n",
      " the unanimous declaration the thirteen united states america when the course human events becomes necessary for one people dissolve the political band\n"
     ]
    }
   ],
   "source": [
    "print(\"RAW TEXT:\\n\", data_text[:150])\n",
    "# clean the text\n",
    "data_new = text_cleaner(data_text)\n",
    "# processed text\n",
    "print(\"\\nPROCESSED TEXT:\\n\", data_new[:150])"
   ]
  },
  {
   "cell_type": "code",
   "execution_count": 5,
   "metadata": {
    "colab": {
     "base_uri": "https://localhost:8080/",
     "height": 34
    },
    "colab_type": "code",
    "id": "BWHetpXsFXV-",
    "outputId": "db6f8f6a-4da1-4bf8-c79e-875a1cbe4d2c"
   },
   "outputs": [
    {
     "name": "stdout",
     "output_type": "stream",
     "text": [
      "String length: 7082\n"
     ]
    }
   ],
   "source": [
    "print(\"String length:\", len(data_new))"
   ]
  },
  {
   "cell_type": "markdown",
   "metadata": {
    "colab_type": "text",
    "id": "AP1JBseBuJnJ"
   },
   "source": [
    "Once the preprocessing is complete, it is time to create training sequences for the model.\n",
    "\n",
    "### Generating character sequences\n",
    "\n",
    "- The way this problem is modeled is we take in 30 characters as context and ask the model to predict the next character. \n",
    "- Now, 30 is a number which I got by trial and error and you can experiment with it too. \n",
    "- You essentially need enough characters in the input sequence that your model is able to get the context."
   ]
  },
  {
   "cell_type": "code",
   "execution_count": 6,
   "metadata": {
    "colab": {},
    "colab_type": "code",
    "id": "P-yI-5p_-Cev"
   },
   "outputs": [],
   "source": [
    "def create_seq(text):\n",
    "    length = 30\n",
    "    sequences = list()\n",
    "    for i in range(length, len(text)):\n",
    "        # select sequence of tokens\n",
    "        seq = text[i-length:i+1]\n",
    "        # store\n",
    "        sequences.append(seq)\n",
    "    print('Total Sequences: %d' % len(sequences))\n",
    "    return sequences"
   ]
  },
  {
   "cell_type": "code",
   "execution_count": 7,
   "metadata": {
    "colab": {
     "base_uri": "https://localhost:8080/",
     "height": 119
    },
    "colab_type": "code",
    "id": "YuZsUFha-Cey",
    "outputId": "be75c749-59bf-4a70-f572-d78eeec9235b",
    "scrolled": true
   },
   "outputs": [
    {
     "name": "stdout",
     "output_type": "stream",
     "text": [
      "Total Sequences: 7052\n"
     ]
    },
    {
     "data": {
      "text/plain": [
       "['the unanimous declaration the t',\n",
       " 'he unanimous declaration the th',\n",
       " 'e unanimous declaration the thi',\n",
       " ' unanimous declaration the thir',\n",
       " 'unanimous declaration the thirt']"
      ]
     },
     "execution_count": 7,
     "metadata": {},
     "output_type": "execute_result"
    }
   ],
   "source": [
    "sequences = create_seq(data_new)\n",
    "sequences[:5]"
   ]
  },
  {
   "cell_type": "markdown",
   "metadata": {
    "colab_type": "text",
    "id": "YGy0HhjHvI6N"
   },
   "source": [
    "Once the sequences are generated, the next step is to encode each character. This would give us a sequence of numbers.\n",
    "\n",
    "\n",
    "### Numerical encoding of characters"
   ]
  },
  {
   "cell_type": "code",
   "execution_count": 8,
   "metadata": {
    "colab": {},
    "colab_type": "code",
    "id": "UyQ0C-5X-Ce5"
   },
   "outputs": [],
   "source": [
    "# create a character mapping index\n",
    "chars = sorted(list(set(data_new)))\n",
    "mapping = dict((c, i) for i, c in enumerate(chars))\n",
    "\n",
    "def encode_seq(seq):\n",
    "    sequences = list()\n",
    "    for line in seq:\n",
    "        # integer encode line\n",
    "        encoded_seq = [mapping[char] for char in line]\n",
    "        # store\n",
    "        sequences.append(encoded_seq)\n",
    "    return sequences\n",
    "\n",
    "# encode the sequences\n",
    "sequences = encode_seq(sequences)"
   ]
  },
  {
   "cell_type": "code",
   "execution_count": 9,
   "metadata": {
    "colab": {
     "base_uri": "https://localhost:8080/",
     "height": 1000
    },
    "colab_type": "code",
    "id": "19LQkWhU-Ce8",
    "outputId": "25e0fc24-4d3f-48c6-b7d3-7681a7d73912"
   },
   "outputs": [
    {
     "data": {
      "text/plain": [
       "[[20,\n",
       "  8,\n",
       "  5,\n",
       "  0,\n",
       "  21,\n",
       "  14,\n",
       "  1,\n",
       "  14,\n",
       "  9,\n",
       "  13,\n",
       "  15,\n",
       "  21,\n",
       "  19,\n",
       "  0,\n",
       "  4,\n",
       "  5,\n",
       "  3,\n",
       "  12,\n",
       "  1,\n",
       "  18,\n",
       "  1,\n",
       "  20,\n",
       "  9,\n",
       "  15,\n",
       "  14,\n",
       "  0,\n",
       "  20,\n",
       "  8,\n",
       "  5,\n",
       "  0,\n",
       "  20],\n",
       " [8,\n",
       "  5,\n",
       "  0,\n",
       "  21,\n",
       "  14,\n",
       "  1,\n",
       "  14,\n",
       "  9,\n",
       "  13,\n",
       "  15,\n",
       "  21,\n",
       "  19,\n",
       "  0,\n",
       "  4,\n",
       "  5,\n",
       "  3,\n",
       "  12,\n",
       "  1,\n",
       "  18,\n",
       "  1,\n",
       "  20,\n",
       "  9,\n",
       "  15,\n",
       "  14,\n",
       "  0,\n",
       "  20,\n",
       "  8,\n",
       "  5,\n",
       "  0,\n",
       "  20,\n",
       "  8],\n",
       " [5,\n",
       "  0,\n",
       "  21,\n",
       "  14,\n",
       "  1,\n",
       "  14,\n",
       "  9,\n",
       "  13,\n",
       "  15,\n",
       "  21,\n",
       "  19,\n",
       "  0,\n",
       "  4,\n",
       "  5,\n",
       "  3,\n",
       "  12,\n",
       "  1,\n",
       "  18,\n",
       "  1,\n",
       "  20,\n",
       "  9,\n",
       "  15,\n",
       "  14,\n",
       "  0,\n",
       "  20,\n",
       "  8,\n",
       "  5,\n",
       "  0,\n",
       "  20,\n",
       "  8,\n",
       "  9],\n",
       " [0,\n",
       "  21,\n",
       "  14,\n",
       "  1,\n",
       "  14,\n",
       "  9,\n",
       "  13,\n",
       "  15,\n",
       "  21,\n",
       "  19,\n",
       "  0,\n",
       "  4,\n",
       "  5,\n",
       "  3,\n",
       "  12,\n",
       "  1,\n",
       "  18,\n",
       "  1,\n",
       "  20,\n",
       "  9,\n",
       "  15,\n",
       "  14,\n",
       "  0,\n",
       "  20,\n",
       "  8,\n",
       "  5,\n",
       "  0,\n",
       "  20,\n",
       "  8,\n",
       "  9,\n",
       "  18],\n",
       " [21,\n",
       "  14,\n",
       "  1,\n",
       "  14,\n",
       "  9,\n",
       "  13,\n",
       "  15,\n",
       "  21,\n",
       "  19,\n",
       "  0,\n",
       "  4,\n",
       "  5,\n",
       "  3,\n",
       "  12,\n",
       "  1,\n",
       "  18,\n",
       "  1,\n",
       "  20,\n",
       "  9,\n",
       "  15,\n",
       "  14,\n",
       "  0,\n",
       "  20,\n",
       "  8,\n",
       "  5,\n",
       "  0,\n",
       "  20,\n",
       "  8,\n",
       "  9,\n",
       "  18,\n",
       "  20]]"
      ]
     },
     "execution_count": 9,
     "metadata": {},
     "output_type": "execute_result"
    }
   ],
   "source": [
    "sequences[:5]\n"
   ]
  },
  {
   "cell_type": "code",
   "execution_count": 10,
   "metadata": {
    "colab": {
     "base_uri": "https://localhost:8080/",
     "height": 34
    },
    "colab_type": "code",
    "id": "Q2klls4P-Ce_",
    "outputId": "0b515e4a-88fb-4c3a-beb5-06de2e14af2a"
   },
   "outputs": [
    {
     "data": {
      "text/plain": [
       "27"
      ]
     },
     "execution_count": 10,
     "metadata": {},
     "output_type": "execute_result"
    }
   ],
   "source": [
    "# vocabulary size\n",
    "vocab = len(mapping)\n",
    "vocab"
   ]
  },
  {
   "cell_type": "code",
   "execution_count": 11,
   "metadata": {
    "colab": {
     "base_uri": "https://localhost:8080/",
     "height": 476
    },
    "colab_type": "code",
    "id": "v31JMDn4LRNF",
    "outputId": "141e9c0d-e290-4937-ed41-5b0b614b15e0"
   },
   "outputs": [
    {
     "data": {
      "text/plain": [
       "{' ': 0,\n",
       " 'a': 1,\n",
       " 'b': 2,\n",
       " 'c': 3,\n",
       " 'd': 4,\n",
       " 'e': 5,\n",
       " 'f': 6,\n",
       " 'g': 7,\n",
       " 'h': 8,\n",
       " 'i': 9,\n",
       " 'j': 10,\n",
       " 'k': 11,\n",
       " 'l': 12,\n",
       " 'm': 13,\n",
       " 'n': 14,\n",
       " 'o': 15,\n",
       " 'p': 16,\n",
       " 'q': 17,\n",
       " 'r': 18,\n",
       " 's': 19,\n",
       " 't': 20,\n",
       " 'u': 21,\n",
       " 'v': 22,\n",
       " 'w': 23,\n",
       " 'x': 24,\n",
       " 'y': 25,\n",
       " 'z': 26}"
      ]
     },
     "execution_count": 11,
     "metadata": {},
     "output_type": "execute_result"
    }
   ],
   "source": [
    "mapping"
   ]
  },
  {
   "cell_type": "markdown",
   "metadata": {
    "colab_type": "text",
    "id": "W4TwVncruTaj"
   },
   "source": [
    "### Train and validation sets\n",
    "\n",
    "Once we are ready with our sequences, we split the data into training and validation splits. "
   ]
  },
  {
   "cell_type": "code",
   "execution_count": 12,
   "metadata": {
    "colab": {
     "base_uri": "https://localhost:8080/",
     "height": 34
    },
    "colab_type": "code",
    "id": "_GfZTZNi-CfC",
    "outputId": "d0382350-f4a4-40e7-9907-a91d36112603"
   },
   "outputs": [
    {
     "name": "stdout",
     "output_type": "stream",
     "text": [
      "Train shape: (5641, 30) Val shape: (1411, 30)\n"
     ]
    }
   ],
   "source": [
    "from sklearn.model_selection import train_test_split\n",
    "\n",
    "# vocabulary size\n",
    "vocab = len(mapping)\n",
    "sequences = np.array(sequences)\n",
    "# create X and y\n",
    "X, y = sequences[:,:-1], sequences[:,-1]\n",
    "# one hot encode y\n",
    "y = to_categorical(y, num_classes=vocab)\n",
    "# create train and validation sets\n",
    "X_tr, X_val, y_tr, y_val = train_test_split(X, y, test_size=0.2, random_state=42)\n",
    "\n",
    "print('Train shape:', X_tr.shape, 'Val shape:', X_val.shape)"
   ]
  },
  {
   "cell_type": "code",
   "execution_count": 13,
   "metadata": {
    "colab": {
     "base_uri": "https://localhost:8080/",
     "height": 34
    },
    "colab_type": "code",
    "id": "jStw_B9A-CfJ",
    "outputId": "cf0f5a87-719c-485b-fb27-f866e15b54b8"
   },
   "outputs": [
    {
     "data": {
      "text/plain": [
       "((5641, 30), (1411, 30))"
      ]
     },
     "execution_count": 13,
     "metadata": {},
     "output_type": "execute_result"
    }
   ],
   "source": [
    "X_tr.shape, X_val.shape"
   ]
  },
  {
   "cell_type": "markdown",
   "metadata": {
    "colab_type": "text",
    "id": "54xfYW2zuZme"
   },
   "source": [
    "## GRU Model\n",
    "\n",
    "Time to build our language model!\n",
    "\n",
    " - We have used the embedding layer of Keras to learn a 50 dimension embedding for each character. \n",
    " - This helps the model in understanding complex relationships between characters. \n",
    " - The there is a GRU layer as the base model, which has 150 timesteps.\n",
    " -  Finally, a Dense layer is used with a softmax activation for prediction."
   ]
  },
  {
   "cell_type": "code",
   "execution_count": 15,
   "metadata": {
    "colab": {
     "base_uri": "https://localhost:8080/",
     "height": 272
    },
    "colab_type": "code",
    "id": "8QTZY1vT-CfM",
    "outputId": "e72918d7-10af-449f-92c0-10d651558c1e"
   },
   "outputs": [
    {
     "name": "stdout",
     "output_type": "stream",
     "text": [
      "_________________________________________________________________\n",
      "Layer (type)                 Output Shape              Param #   \n",
      "=================================================================\n",
      "embedding_2 (Embedding)      (None, 30, 50)            1350      \n",
      "_________________________________________________________________\n",
      "gru_2 (GRU)                  (None, 150)               90450     \n",
      "_________________________________________________________________\n",
      "dense_2 (Dense)              (None, 27)                4077      \n",
      "=================================================================\n",
      "Total params: 95,877\n",
      "Trainable params: 95,877\n",
      "Non-trainable params: 0\n",
      "_________________________________________________________________\n",
      "None\n"
     ]
    }
   ],
   "source": [
    "# define model\n",
    "model = Sequential()\n",
    "model.add(Embedding(vocab, 50, input_length=30, trainable=True))\n",
    "model.add(GRU(150, recurrent_dropout=0.1, dropout=0.1))\n",
    "model.add(Dense(vocab, activation='softmax'))\n",
    "print(model.summary())"
   ]
  },
  {
   "cell_type": "code",
   "execution_count": 16,
   "metadata": {
    "colab": {},
    "colab_type": "code",
    "id": "Z0yblmHD-vJm"
   },
   "outputs": [],
   "source": [
    "es = EarlyStopping(monitor='val_loss', mode='min', verbose=1, patience=2)  \n",
    "mc = ModelCheckpoint('best_model.h5', monitor='val_loss', mode='min', save_best_only=True,verbose=1)  "
   ]
  },
  {
   "cell_type": "code",
   "execution_count": 17,
   "metadata": {
    "colab": {
     "base_uri": "https://localhost:8080/",
     "height": 1000
    },
    "colab_type": "code",
    "id": "J8-cNjtd-CfP",
    "outputId": "0815658e-3c82-4aa4-ccf9-a3198b57700c",
    "scrolled": true
   },
   "outputs": [
    {
     "name": "stderr",
     "output_type": "stream",
     "text": [
      "W1123 12:57:57.256293 4521934336 deprecation_wrapper.py:119] From /Users/guptadhruv51/anaconda3/lib/python3.6/site-packages/keras/optimizers.py:790: The name tf.train.Optimizer is deprecated. Please use tf.compat.v1.train.Optimizer instead.\n",
      "\n",
      "W1123 12:57:57.328624 4521934336 deprecation_wrapper.py:119] From /Users/guptadhruv51/anaconda3/lib/python3.6/site-packages/keras/backend/tensorflow_backend.py:3295: The name tf.log is deprecated. Please use tf.math.log instead.\n",
      "\n",
      "W1123 12:57:57.527123 4521934336 deprecation.py:323] From /Users/guptadhruv51/anaconda3/lib/python3.6/site-packages/tensorflow/python/ops/math_grad.py:1250: add_dispatch_support.<locals>.wrapper (from tensorflow.python.ops.array_ops) is deprecated and will be removed in a future version.\n",
      "Instructions for updating:\n",
      "Use tf.where in 2.0, which has the same broadcast rule as np.where\n"
     ]
    },
    {
     "name": "stdout",
     "output_type": "stream",
     "text": [
      "Train on 5641 samples, validate on 1411 samples\n",
      "Epoch 1/100\n",
      " - 10s - loss: 2.8113 - acc: 0.1909 - val_loss: 2.4704 - val_acc: 0.2899\n",
      "Epoch 2/100\n",
      " - 7s - loss: 2.3239 - acc: 0.3209 - val_loss: 2.2500 - val_acc: 0.3345\n",
      "Epoch 3/100\n",
      " - 7s - loss: 2.1883 - acc: 0.3547 - val_loss: 2.1524 - val_acc: 0.3629\n",
      "Epoch 4/100\n",
      " - 7s - loss: 2.0964 - acc: 0.3794 - val_loss: 2.0783 - val_acc: 0.3841\n",
      "Epoch 5/100\n",
      " - 7s - loss: 2.0207 - acc: 0.3996 - val_loss: 2.0350 - val_acc: 0.4040\n",
      "Epoch 6/100\n",
      " - 7s - loss: 1.9465 - acc: 0.4198 - val_loss: 1.9594 - val_acc: 0.4281\n",
      "Epoch 7/100\n",
      " - 7s - loss: 1.8751 - acc: 0.4347 - val_loss: 1.9377 - val_acc: 0.4337\n",
      "Epoch 8/100\n",
      " - 7s - loss: 1.8158 - acc: 0.4513 - val_loss: 1.8923 - val_acc: 0.4458\n",
      "Epoch 9/100\n",
      " - 10s - loss: 1.7418 - acc: 0.4712 - val_loss: 1.8699 - val_acc: 0.4479\n",
      "Epoch 10/100\n",
      " - 8s - loss: 1.6754 - acc: 0.4926 - val_loss: 1.8543 - val_acc: 0.4486\n",
      "Epoch 11/100\n",
      " - 7s - loss: 1.6062 - acc: 0.5118 - val_loss: 1.8469 - val_acc: 0.4685\n",
      "Epoch 12/100\n",
      " - 7s - loss: 1.5369 - acc: 0.5277 - val_loss: 1.8551 - val_acc: 0.4699\n",
      "Epoch 13/100\n",
      " - 7s - loss: 1.4708 - acc: 0.5517 - val_loss: 1.8429 - val_acc: 0.4670\n",
      "Epoch 14/100\n",
      " - 7s - loss: 1.4073 - acc: 0.5662 - val_loss: 1.8292 - val_acc: 0.4770\n",
      "Epoch 15/100\n",
      " - 7s - loss: 1.3473 - acc: 0.5862 - val_loss: 1.8361 - val_acc: 0.4812\n",
      "Epoch 16/100\n",
      " - 6s - loss: 1.2945 - acc: 0.5990 - val_loss: 1.8296 - val_acc: 0.4819\n",
      "Epoch 17/100\n",
      " - 6s - loss: 1.2360 - acc: 0.6176 - val_loss: 1.8698 - val_acc: 0.4819\n",
      "Epoch 18/100\n",
      " - 6s - loss: 1.1903 - acc: 0.6338 - val_loss: 1.8615 - val_acc: 0.4883\n",
      "Epoch 19/100\n",
      " - 6s - loss: 1.1395 - acc: 0.6490 - val_loss: 1.8944 - val_acc: 0.4968\n",
      "Epoch 20/100\n",
      " - 6s - loss: 1.0914 - acc: 0.6598 - val_loss: 1.9077 - val_acc: 0.4961\n",
      "Epoch 21/100\n",
      " - 7s - loss: 1.0432 - acc: 0.6713 - val_loss: 1.9233 - val_acc: 0.4933\n",
      "Epoch 22/100\n",
      " - 6s - loss: 1.0004 - acc: 0.6860 - val_loss: 1.9629 - val_acc: 0.4826\n",
      "Epoch 23/100\n",
      " - 6s - loss: 0.9653 - acc: 0.6946 - val_loss: 1.9585 - val_acc: 0.4904\n",
      "Epoch 24/100\n",
      " - 6s - loss: 0.9277 - acc: 0.7112 - val_loss: 1.9912 - val_acc: 0.4940\n",
      "Epoch 25/100\n",
      " - 8s - loss: 0.9021 - acc: 0.7142 - val_loss: 1.9941 - val_acc: 0.4975\n",
      "Epoch 26/100\n",
      " - 9s - loss: 0.8774 - acc: 0.7211 - val_loss: 2.0189 - val_acc: 0.4989\n",
      "Epoch 27/100\n",
      " - 9s - loss: 0.8456 - acc: 0.7293 - val_loss: 2.0484 - val_acc: 0.4961\n",
      "Epoch 28/100\n",
      " - 8s - loss: 0.8082 - acc: 0.7470 - val_loss: 2.0846 - val_acc: 0.4897\n",
      "Epoch 29/100\n",
      " - 7s - loss: 0.7910 - acc: 0.7456 - val_loss: 2.1005 - val_acc: 0.4876\n",
      "Epoch 30/100\n",
      " - 7s - loss: 0.7607 - acc: 0.7580 - val_loss: 2.1036 - val_acc: 0.5025\n",
      "Epoch 31/100\n",
      " - 7s - loss: 0.7322 - acc: 0.7655 - val_loss: 2.1384 - val_acc: 0.4954\n",
      "Epoch 32/100\n",
      " - 7s - loss: 0.7160 - acc: 0.7777 - val_loss: 2.1666 - val_acc: 0.4869\n",
      "Epoch 33/100\n",
      " - 8s - loss: 0.7069 - acc: 0.7733 - val_loss: 2.1749 - val_acc: 0.4933\n",
      "Epoch 34/100\n",
      " - 7s - loss: 0.6768 - acc: 0.7871 - val_loss: 2.2281 - val_acc: 0.4805\n",
      "Epoch 35/100\n",
      " - 7s - loss: 0.6567 - acc: 0.7887 - val_loss: 2.2426 - val_acc: 0.4926\n",
      "Epoch 36/100\n",
      " - 7s - loss: 0.6339 - acc: 0.7958 - val_loss: 2.2764 - val_acc: 0.4869\n",
      "Epoch 37/100\n",
      " - 8s - loss: 0.6151 - acc: 0.8038 - val_loss: 2.2783 - val_acc: 0.4855\n",
      "Epoch 38/100\n",
      " - 10s - loss: 0.6164 - acc: 0.7995 - val_loss: 2.3135 - val_acc: 0.4798\n",
      "Epoch 39/100\n",
      " - 7s - loss: 0.6085 - acc: 0.8046 - val_loss: 2.2846 - val_acc: 0.4791\n",
      "Epoch 40/100\n",
      " - 7s - loss: 0.5847 - acc: 0.8135 - val_loss: 2.3384 - val_acc: 0.4819\n",
      "Epoch 41/100\n",
      " - 7s - loss: 0.5779 - acc: 0.8156 - val_loss: 2.3549 - val_acc: 0.4918\n",
      "Epoch 42/100\n",
      " - 7s - loss: 0.5574 - acc: 0.8194 - val_loss: 2.3892 - val_acc: 0.4812\n",
      "Epoch 43/100\n",
      " - 9s - loss: 0.5489 - acc: 0.8243 - val_loss: 2.4165 - val_acc: 0.4862\n",
      "Epoch 44/100\n",
      " - 9s - loss: 0.5357 - acc: 0.8300 - val_loss: 2.4091 - val_acc: 0.4798\n",
      "Epoch 45/100\n",
      " - 8s - loss: 0.5209 - acc: 0.8309 - val_loss: 2.4422 - val_acc: 0.4805\n",
      "Epoch 46/100\n",
      " - 8s - loss: 0.5245 - acc: 0.8268 - val_loss: 2.4797 - val_acc: 0.4727\n",
      "Epoch 47/100\n",
      " - 10s - loss: 0.4994 - acc: 0.8374 - val_loss: 2.4834 - val_acc: 0.4798\n",
      "Epoch 48/100\n",
      " - 8s - loss: 0.5060 - acc: 0.8373 - val_loss: 2.4999 - val_acc: 0.4805\n",
      "Epoch 49/100\n",
      " - 10s - loss: 0.4994 - acc: 0.8371 - val_loss: 2.5179 - val_acc: 0.4720\n",
      "Epoch 50/100\n",
      " - 8s - loss: 0.4684 - acc: 0.8497 - val_loss: 2.5585 - val_acc: 0.4841\n",
      "Epoch 51/100\n",
      " - 7s - loss: 0.4765 - acc: 0.8438 - val_loss: 2.5713 - val_acc: 0.4741\n",
      "Epoch 52/100\n",
      " - 7s - loss: 0.4608 - acc: 0.8502 - val_loss: 2.6220 - val_acc: 0.4706\n",
      "Epoch 53/100\n",
      " - 7s - loss: 0.4518 - acc: 0.8546 - val_loss: 2.6254 - val_acc: 0.4670\n",
      "Epoch 54/100\n",
      " - 7s - loss: 0.4500 - acc: 0.8557 - val_loss: 2.6426 - val_acc: 0.4706\n",
      "Epoch 55/100\n",
      " - 7s - loss: 0.4368 - acc: 0.8576 - val_loss: 2.6673 - val_acc: 0.4656\n",
      "Epoch 56/100\n",
      " - 6s - loss: 0.4316 - acc: 0.8631 - val_loss: 2.6895 - val_acc: 0.4720\n",
      "Epoch 57/100\n",
      " - 6s - loss: 0.4251 - acc: 0.8640 - val_loss: 2.7109 - val_acc: 0.4663\n",
      "Epoch 58/100\n",
      " - 7s - loss: 0.4287 - acc: 0.8584 - val_loss: 2.6829 - val_acc: 0.4791\n",
      "Epoch 59/100\n",
      " - 7s - loss: 0.4277 - acc: 0.8594 - val_loss: 2.7184 - val_acc: 0.4798\n",
      "Epoch 60/100\n",
      " - 6s - loss: 0.4008 - acc: 0.8711 - val_loss: 2.7580 - val_acc: 0.4713\n",
      "Epoch 61/100\n",
      " - 7s - loss: 0.4059 - acc: 0.8686 - val_loss: 2.7729 - val_acc: 0.4826\n",
      "Epoch 62/100\n",
      " - 8s - loss: 0.4110 - acc: 0.8603 - val_loss: 2.8013 - val_acc: 0.4734\n",
      "Epoch 63/100\n",
      " - 7s - loss: 0.4020 - acc: 0.8667 - val_loss: 2.7854 - val_acc: 0.4727\n",
      "Epoch 64/100\n",
      " - 7s - loss: 0.4088 - acc: 0.8662 - val_loss: 2.7821 - val_acc: 0.4727\n",
      "Epoch 65/100\n",
      " - 7s - loss: 0.3724 - acc: 0.8764 - val_loss: 2.8180 - val_acc: 0.4706\n",
      "Epoch 66/100\n",
      " - 7s - loss: 0.3879 - acc: 0.8690 - val_loss: 2.8474 - val_acc: 0.4720\n",
      "Epoch 67/100\n",
      " - 7s - loss: 0.3853 - acc: 0.8770 - val_loss: 2.8589 - val_acc: 0.4826\n",
      "Epoch 68/100\n",
      " - 7s - loss: 0.3722 - acc: 0.8791 - val_loss: 2.8245 - val_acc: 0.4819\n",
      "Epoch 69/100\n",
      " - 6s - loss: 0.3703 - acc: 0.8818 - val_loss: 2.8970 - val_acc: 0.4678\n",
      "Epoch 70/100\n",
      " - 6s - loss: 0.3655 - acc: 0.8816 - val_loss: 2.9007 - val_acc: 0.4699\n",
      "Epoch 71/100\n",
      " - 7s - loss: 0.3695 - acc: 0.8779 - val_loss: 2.9595 - val_acc: 0.4628\n",
      "Epoch 72/100\n",
      " - 7s - loss: 0.3675 - acc: 0.8812 - val_loss: 2.9296 - val_acc: 0.4685\n",
      "Epoch 73/100\n",
      " - 6s - loss: 0.3676 - acc: 0.8761 - val_loss: 2.9266 - val_acc: 0.4699\n",
      "Epoch 74/100\n",
      " - 6s - loss: 0.3555 - acc: 0.8832 - val_loss: 2.9467 - val_acc: 0.4777\n",
      "Epoch 75/100\n",
      " - 7s - loss: 0.3521 - acc: 0.8881 - val_loss: 2.9651 - val_acc: 0.4748\n",
      "Epoch 76/100\n",
      " - 6s - loss: 0.3494 - acc: 0.8805 - val_loss: 3.0134 - val_acc: 0.4706\n",
      "Epoch 77/100\n",
      " - 7s - loss: 0.3505 - acc: 0.8849 - val_loss: 3.0208 - val_acc: 0.4628\n",
      "Epoch 78/100\n",
      " - 7s - loss: 0.3549 - acc: 0.8818 - val_loss: 3.0307 - val_acc: 0.4741\n",
      "Epoch 79/100\n",
      " - 6s - loss: 0.3328 - acc: 0.8896 - val_loss: 3.0310 - val_acc: 0.4692\n",
      "Epoch 80/100\n",
      " - 6s - loss: 0.3288 - acc: 0.8938 - val_loss: 3.0519 - val_acc: 0.4635\n",
      "Epoch 81/100\n",
      " - 6s - loss: 0.3308 - acc: 0.8885 - val_loss: 3.0356 - val_acc: 0.4621\n",
      "Epoch 82/100\n",
      " - 6s - loss: 0.3249 - acc: 0.8963 - val_loss: 3.0539 - val_acc: 0.4692\n",
      "Epoch 83/100\n",
      " - 6s - loss: 0.3354 - acc: 0.8873 - val_loss: 3.0569 - val_acc: 0.4656\n",
      "Epoch 84/100\n",
      " - 6s - loss: 0.3350 - acc: 0.8873 - val_loss: 3.0804 - val_acc: 0.4642\n",
      "Epoch 85/100\n",
      " - 6s - loss: 0.3485 - acc: 0.8818 - val_loss: 3.0682 - val_acc: 0.4678\n",
      "Epoch 86/100\n",
      " - 6s - loss: 0.3227 - acc: 0.8931 - val_loss: 3.0844 - val_acc: 0.4685\n",
      "Epoch 87/100\n",
      " - 6s - loss: 0.3184 - acc: 0.8965 - val_loss: 3.1022 - val_acc: 0.4663\n",
      "Epoch 88/100\n",
      " - 6s - loss: 0.3182 - acc: 0.8920 - val_loss: 3.1194 - val_acc: 0.4685\n",
      "Epoch 89/100\n",
      " - 6s - loss: 0.3076 - acc: 0.8942 - val_loss: 3.1306 - val_acc: 0.4600\n",
      "Epoch 90/100\n",
      " - 6s - loss: 0.3044 - acc: 0.9014 - val_loss: 3.1417 - val_acc: 0.4685\n",
      "Epoch 91/100\n",
      " - 7s - loss: 0.3197 - acc: 0.8945 - val_loss: 3.1698 - val_acc: 0.4635\n",
      "Epoch 92/100\n",
      " - 6s - loss: 0.3016 - acc: 0.9013 - val_loss: 3.1584 - val_acc: 0.4635\n",
      "Epoch 93/100\n",
      " - 6s - loss: 0.3198 - acc: 0.8936 - val_loss: 3.1762 - val_acc: 0.4706\n",
      "Epoch 94/100\n",
      " - 6s - loss: 0.3061 - acc: 0.8981 - val_loss: 3.1829 - val_acc: 0.4571\n",
      "Epoch 95/100\n",
      " - 6s - loss: 0.3002 - acc: 0.9005 - val_loss: 3.2070 - val_acc: 0.4656\n",
      "Epoch 96/100\n",
      " - 6s - loss: 0.3003 - acc: 0.8998 - val_loss: 3.2272 - val_acc: 0.4607\n"
     ]
    },
    {
     "name": "stdout",
     "output_type": "stream",
     "text": [
      "Epoch 97/100\n",
      " - 7s - loss: 0.2961 - acc: 0.9048 - val_loss: 3.2344 - val_acc: 0.4543\n",
      "Epoch 98/100\n",
      " - 6s - loss: 0.3045 - acc: 0.8959 - val_loss: 3.1820 - val_acc: 0.4621\n",
      "Epoch 99/100\n",
      " - 6s - loss: 0.2966 - acc: 0.9023 - val_loss: 3.2135 - val_acc: 0.4649\n",
      "Epoch 100/100\n",
      " - 6s - loss: 0.3024 - acc: 0.8986 - val_loss: 3.1953 - val_acc: 0.4727\n"
     ]
    },
    {
     "data": {
      "text/plain": [
       "<keras.callbacks.History at 0x7f8edc74ccc0>"
      ]
     },
     "execution_count": 17,
     "metadata": {},
     "output_type": "execute_result"
    }
   ],
   "source": [
    "model.compile(loss='categorical_crossentropy', metrics=['acc'], optimizer='adam')\n",
    "model.fit(X_tr, y_tr, epochs=100, verbose=2, validation_data=(X_val, y_val))"
   ]
  },
  {
   "cell_type": "markdown",
   "metadata": {
    "colab_type": "text",
    "id": "yhhdpU-fupIu"
   },
   "source": [
    "## Inference - Generating output sequence\n",
    "\n",
    "Once the model has finished training, we can generate text from the model given an input sequence using the below code:\n",
    "\n"
   ]
  },
  {
   "cell_type": "code",
   "execution_count": 18,
   "metadata": {
    "colab": {},
    "colab_type": "code",
    "id": "wL7vrA3o-CfS"
   },
   "outputs": [],
   "source": [
    "# generate a sequence of characters with a language model\n",
    "def generate_seq(model, mapping, seq_length, seed_text, n_chars):\n",
    "    in_text = seed_text\n",
    "    # generate a fixed number of characters\n",
    "    for _ in range(n_chars):\n",
    "        # encode the characters as integers\n",
    "        encoded = [mapping[char] for char in in_text]\n",
    "        # truncate sequences to a fixed length\n",
    "        encoded = pad_sequences([encoded], maxlen=seq_length, truncating='pre')\n",
    "        # predict character\n",
    "        yhat = model.predict_classes(encoded, verbose=0)\n",
    "        # reverse map integer to character\n",
    "        out_char = ''\n",
    "        for char, index in mapping.items():\n",
    "            if index == yhat:\n",
    "                out_char = char\n",
    "                break\n",
    "            # append to input\n",
    "        in_text += char\n",
    "    return in_text"
   ]
  },
  {
   "cell_type": "markdown",
   "metadata": {
    "colab_type": "text",
    "id": "0d6tqxS7uvO-"
   },
   "source": [
    "## Output\n",
    "\n",
    "Let's see what is the output of our model!"
   ]
  },
  {
   "cell_type": "code",
   "execution_count": 19,
   "metadata": {
    "colab": {
     "base_uri": "https://localhost:8080/",
     "height": 51
    },
    "colab_type": "code",
    "id": "1ilXEKDG-CfU",
    "outputId": "4670bbce-56c3-40d2-8ca4-c12a5de06ce1"
   },
   "outputs": [
    {
     "name": "stdout",
     "output_type": "stream",
     "text": [
      "15\n",
      "large armies offices and the same absolute ru\n"
     ]
    }
   ],
   "source": [
    "inp = 'large armies of'\n",
    "print(len(inp))\n",
    "print(generate_seq(model, mapping, 30, inp.lower(), 30))"
   ]
  },
  {
   "cell_type": "code",
   "execution_count": 0,
   "metadata": {
    "colab": {},
    "colab_type": "code",
    "id": "ExYeFRzG14HA"
   },
   "outputs": [],
   "source": []
  }
 ],
 "metadata": {
  "accelerator": "TPU",
  "colab": {
   "collapsed_sections": [
    "a9BCyYOjtPd4",
    "54xfYW2zuZme",
    "yhhdpU-fupIu",
    "0d6tqxS7uvO-"
   ],
   "name": "Character_LM_Course.ipynb",
   "provenance": [],
   "version": "0.3.2"
  },
  "kernelspec": {
   "display_name": "Python 3",
   "language": "python",
   "name": "python3"
  },
  "language_info": {
   "codemirror_mode": {
    "name": "ipython",
    "version": 3
   },
   "file_extension": ".py",
   "mimetype": "text/x-python",
   "name": "python",
   "nbconvert_exporter": "python",
   "pygments_lexer": "ipython3",
   "version": "3.6.9"
  }
 },
 "nbformat": 4,
 "nbformat_minor": 1
}
