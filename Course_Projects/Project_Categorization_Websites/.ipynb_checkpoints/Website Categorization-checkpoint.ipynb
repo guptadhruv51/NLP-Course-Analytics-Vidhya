{
 "cells": [
  {
   "cell_type": "code",
   "execution_count": 74,
   "metadata": {},
   "outputs": [],
   "source": [
    "import pandas as pd\n",
    "import numpy as np\n",
    "import nltk\n",
    "from nltk.corpus import stopwords\n",
    "import re"
   ]
  },
  {
   "cell_type": "code",
   "execution_count": 75,
   "metadata": {},
   "outputs": [
    {
     "data": {
      "text/html": [
       "<div>\n",
       "<style scoped>\n",
       "    .dataframe tbody tr th:only-of-type {\n",
       "        vertical-align: middle;\n",
       "    }\n",
       "\n",
       "    .dataframe tbody tr th {\n",
       "        vertical-align: top;\n",
       "    }\n",
       "\n",
       "    .dataframe thead th {\n",
       "        text-align: right;\n",
       "    }\n",
       "</style>\n",
       "<table border=\"1\" class=\"dataframe\">\n",
       "  <thead>\n",
       "    <tr style=\"text-align: right;\">\n",
       "      <th></th>\n",
       "      <th>Webpage_id</th>\n",
       "      <th>Tag</th>\n",
       "      <th>text</th>\n",
       "    </tr>\n",
       "  </thead>\n",
       "  <tbody>\n",
       "    <tr>\n",
       "      <th>0</th>\n",
       "      <td>1</td>\n",
       "      <td>news</td>\n",
       "      <td>b'    Skip to main content                    ...</td>\n",
       "    </tr>\n",
       "    <tr>\n",
       "      <th>1</th>\n",
       "      <td>2</td>\n",
       "      <td>news</td>\n",
       "      <td>b'    Skip to main content                    ...</td>\n",
       "    </tr>\n",
       "    <tr>\n",
       "      <th>2</th>\n",
       "      <td>3</td>\n",
       "      <td>news</td>\n",
       "      <td>b'    Skip to main content                    ...</td>\n",
       "    </tr>\n",
       "    <tr>\n",
       "      <th>3</th>\n",
       "      <td>4</td>\n",
       "      <td>news</td>\n",
       "      <td>b\"    Skip to main content                    ...</td>\n",
       "    </tr>\n",
       "    <tr>\n",
       "      <th>4</th>\n",
       "      <td>5</td>\n",
       "      <td>news</td>\n",
       "      <td>b\"    Skip to main content                    ...</td>\n",
       "    </tr>\n",
       "  </tbody>\n",
       "</table>\n",
       "</div>"
      ],
      "text/plain": [
       "   Webpage_id   Tag                                               text\n",
       "0           1  news  b'    Skip to main content                    ...\n",
       "1           2  news  b'    Skip to main content                    ...\n",
       "2           3  news  b'    Skip to main content                    ...\n",
       "3           4  news  b\"    Skip to main content                    ...\n",
       "4           5  news  b\"    Skip to main content                    ..."
      ]
     },
     "execution_count": 75,
     "metadata": {},
     "output_type": "execute_result"
    }
   ],
   "source": [
    "new_train=pd.read_csv('web_categ_final.csv')\n",
    "new_train.head()"
   ]
  },
  {
   "cell_type": "code",
   "execution_count": 76,
   "metadata": {},
   "outputs": [
    {
     "data": {
      "text/plain": [
       "(53447, 3)"
      ]
     },
     "execution_count": 76,
     "metadata": {},
     "output_type": "execute_result"
    }
   ],
   "source": [
    "new_train.shape"
   ]
  },
  {
   "cell_type": "code",
   "execution_count": 77,
   "metadata": {},
   "outputs": [
    {
     "data": {
      "text/plain": [
       "others            17417\n",
       "news               7992\n",
       "publication        7705\n",
       "profile            5196\n",
       "conferences        4666\n",
       "forum              4503\n",
       "clinicalTrials     2839\n",
       "thesis             1800\n",
       "guidelines         1329\n",
       "Name: Tag, dtype: int64"
      ]
     },
     "execution_count": 77,
     "metadata": {},
     "output_type": "execute_result"
    }
   ],
   "source": [
    "new_train['Tag'].value_counts()"
   ]
  },
  {
   "cell_type": "code",
   "execution_count": 78,
   "metadata": {},
   "outputs": [
    {
     "data": {
      "text/plain": [
       "<matplotlib.axes._subplots.AxesSubplot at 0x7febaf105550>"
      ]
     },
     "execution_count": 78,
     "metadata": {},
     "output_type": "execute_result"
    },
    {
     "data": {
      "image/png": "[encoded data removed]",
      "text/plain": [
       "<Figure size 432x288 with 1 Axes>"
      ]
     },
     "metadata": {
      "needs_background": "light"
     },
     "output_type": "display_data"
    }
   ],
   "source": [
    "new_train['Tag'].value_counts().plot(kind='bar')"
   ]
  },
  {
   "cell_type": "code",
   "execution_count": 79,
   "metadata": {},
   "outputs": [
    {
     "data": {
      "text/plain": [
       "'b\\'    Skip to main content                                    Twitter  LinkedIn      Search           Top Menu    DDF 2017    FierceBiotech    Jobs    Resources    Events    Subscribe                  Main navigation    Pharma    M&A    Regulatory    Financials    Corporate    Legal      Manufacturing    M&A    Outsourcing    Regulatory    Supply Chain    Partnering    Drug Safety      Marketing    Regulatory    DTC Advertising    Digital and Social Media    Data and Analytics    Launches      Pharma Asia    M&A    R&D    Regulatory    Sales and Marketing    Financials    Manufacturing      Animal Health    R&D    M&A    Regulatory    Veterinarian    Financials    Vaccines      Drug Delivery    R&D    Regulatory    Partnering      Vaccines    Deals    Infectious Diseases    R&D    Regulatory        Main navigation - Mobile    Pharma    M&A    Regulatory    Financials    Corporate    Legal      Manufacturing    M&A    Outsourcing    Regulatory    Supply Chain    Partnering    Drug Safety      Marketing    Regulatory    DTC Advertising    Digital and Social Media    Data and Analytics    Launches      Pharma Asia    M&A    R&D    Regulatory    Sales and Marketing    Financials    Manufacturing      Animal Health    R&D    M&A    Regulatory    Veterinarian    Financials    Vaccines      Drug Delivery    R&D    Regulatory    Partnering      Vaccines    Deals    Infectious Diseases    R&D    Regulatory                    Marketing          Tecfidera, Gilenya and Aubagio\\\\\\'s 3-way battle for MS share is about to heat up         by Tracy Staton | Oct 31, 2016 6:54am                        Multiple sclerosis drugmakers are in a fix: These days, the U.S. market isn\\\\xe2\\\\x80\\\\x99t delivering the kind of growth that had been fueling big increases in sales.  For high-flying pills from Biogen (Tecfidera) and Novartis (Gilenya), that could mean an unwelcome comedown. It definitely means\\\\xc2\\\\xa0 the coming market-share battle will grow even more competitive than before. If the quickest way to grow sales is to steal share, you can bet Tecfidera and Gilenya--and their up-and-coming rival med from Sanofi, Aubagio--will be working hard to do just that.  Thing is, Biogen isn\\\\xe2\\\\x80\\\\x99t on that sort of growth trajectory. It\\\\xe2\\\\x80\\\\x99s the market leader--with 51% share of the oral market and 20% of MS overall, as EVP Michel Vounatsos hastened to point out during the company\\\\xe2\\\\x80\\\\x99s earnings call with analysts last week. But Tecfidera\\\\xe2\\\\x80\\\\x99s 10% growth during the quarter largely depended on price increases , the company disclosed in a securities filing the next day.  Gilenya, on the other hand, grew by 15%, and in its earnings announcement , the Swiss drugmaker said that growth wasn\\\\xe2\\\\x80\\\\x99t based on price, but volume. That\\\\xe2\\\\x80\\\\x99s not to say Gilenya doesn\\\\xe2\\\\x80\\\\x99t have some troubling signs in its Q3 stats; pharma chief Paul Hudson said script numbers have been \\\\xe2\\\\x80\\\\x9cbroadly flat but a little bit down\\\\xe2\\\\x80\\\\x9d--which suggests the overall market slowdown hasn\\\\xe2\\\\x80\\\\x99t been without its effect on Gilenya, too.  Neither Biogen nor Novartis plans to stick with the status quo. Biogen is grappling with Tecfidera\\\\xe2\\\\x80\\\\x99s gastrointestinal side effects, and various MS specialists are working on ways to manage that; 22% of Tecfidera patients quit because of GI issues, and keeping patients on therapy would obviously help sales.  The Tecfidera team is pilot-testing a new \\\\xe2\\\\x80\\\\x9cengagement model\\\\xe2\\\\x80\\\\x9d at top treatment centers, with plans to roll it out by January. \\\\xe2\\\\x80\\\\x9cThe team in the U.S. is all up and running,\\\\xe2\\\\x80\\\\x9d Vounatsos said during the call. \\\\xe2\\\\x80\\\\x9cI\\\\xe2\\\\x80\\\\x99m very pleased to see the perception improvement, and now we have to continue to execute.\\\\xe2\\\\x80\\\\x9d  On the advertising side, Biogen recently backed off a TV campaign that had stirred up some controversy in the MS community, and the company said at the time that it didn\\\\xe2\\\\x80\\\\x99t plan more television in the immediate future, though it is running other DTC promos.  Novartis is running with its Hey MS, Take This! campaign for Gilenya, which launched in 2014 and has since won kudos--and made inroads--particularly with its digital and social media work. Besides print and web video, the campaign invites patients to \\\\xe2\\\\x80\\\\x9ctell relapsing MS exactly where to go,\\\\xe2\\\\x80\\\\x9d and many have, both on the campaign\\\\xe2\\\\x80\\\\x99s website and via social media. They\\\\xe2\\\\x80\\\\x99ve also shared what they do to manage their MS.       Novartis apparently believes that Gilenya DTC and salesforce work, coupled with a steady stream of new data, will keep the brand\\\\xe2\\\\x80\\\\x99s volume growing enough to avoid using price as a driver. The company has \\\\xe2\\\\x80\\\\x9csome sensible plans\\\\xe2\\\\x80\\\\x9d for growth, without \\\\xe2\\\\x80\\\\x9ca big impact ... on price,\\\\xe2\\\\x80\\\\x9d Hudson said during the Q3 call. \\\\xe2\\\\x80\\\\x9cWe are ...\\\\xc2\\\\xa0 looking forward to the energy into Q4,\\\\xe2\\\\x80\\\\x9d he said.  Meanwhile, the big leaper of the quarter was Aubagio, Sanofi\\\\xe2\\\\x80\\\\x99s slow-to-start entry in the class. Sales of that drug grew by almost 50% to 334 million euros during the quarter--and that was driven by growth in the U.S. Its 9-month revenue amounted to 928 million euros, a 57% hike. The French drugmaker quickly bragged that Aubagio is the \\\\xe2\\\\x80\\\\x9cfastest-growing oral disease modifying therapy\\\\xe2\\\\x80\\\\x9d in MS, with a U.S. share of 9%--far far below Tecfidera\\\\xe2\\\\x80\\\\x99s, but rising. This time last year, Sanofi was happy to report it had captured a 6% share.  What\\\\xe2\\\\x80\\\\x99s spurring Aubagio on? The company has been running a campaign with Revenge star Madeleine Stowe since late 2014, for one; the actor has been traveling across the U.S. doing awareness events. The Lights! Camera! Take Action! partnership most recently rolled out a series of \\\\xe2\\\\x80\\\\x9cwebisodes\\\\xe2\\\\x80\\\\x9d featuring Stowe in interviews with MS patients--a common theme in awareness campaigns--but also with nurses, physical therapists and others with advice for MS patients and their caregivers.       The drug\\\\\\'s brand website also has a share-your-story channel, and Sanofi has put other promo work under a tagline, \"Aubagio quiets MS.\" The company\\\\xc2\\\\xa0has set out a goal of \\\\xe2\\\\x82\\\\xac2 billion in sales by 2020 for its entire franchise; if Aubagio and its fellow med Lemtrada keep delivering as they are, the company could actually hit that target sooner. \"In MS, we continued to gain share, and sales from the franchise are now approaching \\\\xe2\\\\x82\\\\xac2 billion on an annualized basis,\" CEO Olivier Brandicourt said during the company\\\\\\'s Q3 call.  Biogen\\\\xe2\\\\x80\\\\x99s Vounatsos may have summed it up for the entire oral market when he pledged to fight the good fight on Tecfidera last week. \\\\xe2\\\\x80\\\\x9cThe base of the market is certainly lower than what we have estimated in our assumptions, but it\\\\\\'s not an excuse for not increasing share,\\\\xe2\\\\x80\\\\x9d he said.  There\\\\xe2\\\\x80\\\\x99s a confounding factor, however: The group of oral treatments may get some unwanted rivals in a few years. Novartis could face earlier-than-expected Gilenya generics, thanks to some recent patent decisions. As early as 2019, in fact--and that would give these three meds just a few more years to divvy up share just among themselves. Add to that the payer pressure that\\\\\\'s increasingly a problem, and the price-increase growth option looks even less likely.  Related Articles: Biogen\\\\xe2\\\\x80\\\\x99s Tecfidera, Amgen\\\\xe2\\\\x80\\\\x99s Enbrel tell a tale of pricing power and weakness Novartis could snag a blockbuster MS market all for itself, just in time to fight Gilenya generics Biogen\\\\\\'s controversial Tecfidera ad is about to meet its end Biogen sees new Tecfidera buzz as DTC, marketing push kicks in Buoyed by rising tide of Aubagio scripts, Sanofi aims for \\\\xe2\\\\x82\\\\xac2B in MS sales Early Gilenya generics now spell trouble for rival MS drugs    Read more on   multiple sclerosis , drug launch , generics , payer , Sanofi , Aubagio , Tecfidera , Biogen , Novartis , Gilenya                                           Popular Content   Pfizer puts hemophilia spin on ultrapopular Minecraft to educate young patients Sep 06, 2017  Takeda, Johnson & Johnson and more join Clara Health\\\\\\'s Boston-based patient empowerment push Sep 06, 2017  Empathy at work: GlaxoSmithKline extends Excedrin Migraine campaign to include sufferers on the job Sep 04, 2017  What\\\\\\'s the world\\\\\\'s best pharma market? To Allergan\\\\\\'s CEO, that one\\\\\\'s easy Aug 07, 2017  Roche nets new Actemra nod to treat deadly CAR-T response Sep 01, 2017     About the Author        Tracy Staton  Editor-in-Chief  tracy@fiercemarkets.com  https://twitter.com/TracyStaton                                  \\\\xe2\\\\x80\\\\x8b   Home  Subscribe  Manage Newsletter Subscriptions  Advertise  RSS  Privacy  About Us  Contact    \\\\xc2\\\\xa9 2017 Questex LLC. All rights reserved.  275 Grove Street, Suite 2-130 Newton, MA 02466  Reproduction in whole or part is prohibited.                        \\''"
      ]
     },
     "execution_count": 79,
     "metadata": {},
     "output_type": "execute_result"
    }
   ],
   "source": [
    "new_train['text'][0]"
   ]
  },
  {
   "cell_type": "code",
   "execution_count": 80,
   "metadata": {},
   "outputs": [],
   "source": [
    "stop_words=set(stopwords.words('english'))\n",
    "\n",
    "def text_cleaner(text):\n",
    "    newString=text.lower()\n",
    "    #remove hyperlinks\n",
    "    newString=re.sub(r'(https|http)?:\\/\\/(\\w|\\.|\\/|\\?|\\=|\\&|\\%)*\\b', '', newString)\n",
    "     #removing text inside ()\n",
    "    newString = re.sub(r'\\([^)]*\\)', '', newString)\n",
    "    #removing text inside []\n",
    "    newString = re.sub(r'\\{[^)]*\\}', '', newString)\n",
    "    #fetching alphabetic characters\n",
    "    newString = re.sub(\"[^a-zA-Z]\", \" \", newString)\n",
    "    #removing stop words\n",
    "    tokens = [w for w in newString.split() if not w in stop_words] \n",
    "    long_words=[]\n",
    "    for i in tokens:\n",
    "        #removing short words\n",
    "        if len(i)>=4:                                                 \n",
    "            long_words.append(i)   \n",
    "    return (\" \".join(long_words)).strip()"
   ]
  },
  {
   "cell_type": "code",
   "execution_count": 81,
   "metadata": {},
   "outputs": [],
   "source": [
    "cleaned_text=[]\n",
    "for i in new_train['text']:\n",
    "    cleaned_text.append(text_cleaner(i))"
   ]
  },
  {
   "cell_type": "code",
   "execution_count": 82,
   "metadata": {},
   "outputs": [
    {
     "data": {
      "text/plain": [
       "'skip main content twitter linkedin search menu fiercebiotech jobs resources events subscribe main navigation pharma regulatory financials corporate legal manufacturing outsourcing regulatory supply chain partnering drug safety marketing regulatory advertising digital social media data analytics launches pharma asia regulatory sales marketing financials manufacturing animal health regulatory veterinarian financials vaccines drug delivery regulatory partnering vaccines deals infectious diseases regulatory main navigation mobile pharma regulatory financials corporate legal manufacturing outsourcing regulatory supply chain partnering drug safety marketing regulatory advertising digital social media data analytics launches pharma asia regulatory sales marketing financials manufacturing animal health regulatory veterinarian financials vaccines drug delivery regulatory partnering vaccines deals infectious diseases regulatory marketing tecfidera gilenya aubagio battle share heat tracy staton multiple sclerosis drugmakers days market delivering kind growth fueling increases sales high flying pills biogen novartis could mean unwelcome comedown definitely means coming market share battle grow even competitive quickest grow sales steal share tecfidera gilenya coming rival sanofi aubagio working hard thing biogen sort growth trajectory market leader share oral market overall michel vounatsos hastened point company earnings call analysts last week tecfidera growth quarter largely depended price increases company disclosed securities filing next gilenya hand grew earnings announcement swiss drugmaker said growth based price volume gilenya troubling signs stats pharma chief paul hudson said script numbers cbroadly flat little suggests overall market slowdown without effect gilenya neither biogen novartis plans stick status biogen grappling tecfidera gastrointestinal side effects various specialists working ways manage tecfidera patients quit issues keeping patients therapy would obviously help sales tecfidera team pilot testing cengagement model treatment centers plans roll january cthe team running vounatsos said call pleased perception improvement continue execute advertising side biogen recently backed campaign stirred controversy community company said time plan television immediate future though running promos novartis running take campaign gilenya launched since kudos made inroads particularly digital social media work besides print video campaign invites patients ctell relapsing exactly many campaign website social media also shared manage novartis apparently believes gilenya salesforce work coupled steady stream data keep brand volume growing enough avoid using price driver company csome sensible plans growth without impact price hudson said call looking forward energy said meanwhile leaper quarter aubagio sanofi slow start entry class sales drug grew almost million euros quarter driven growth month revenue amounted million euros hike french drugmaker quickly bragged aubagio cfastest growing oral disease modifying therapy share tecfidera rising time last year sanofi happy report captured share spurring aubagio company running campaign revenge star madeleine stowe since late actor traveling across awareness events lights camera take action partnership recently rolled series cwebisodes featuring stowe interviews patients common theme awareness campaigns also nurses physical therapists others advice patients caregivers drug brand website also share story channel sanofi promo work tagline aubagio quiets company goal billion sales entire franchise aubagio fellow lemtrada keep delivering company could actually target sooner continued gain share sales franchise approaching billion annualized basis olivier brandicourt said company call biogen vounatsos summed entire oral market pledged fight good fight tecfidera last week cthe base market certainly lower estimated assumptions excuse increasing share said confounding factor however group oral treatments unwanted rivals years novartis could face earlier expected gilenya generics thanks recent patent decisions early fact would give three meds years divvy share among payer pressure increasingly problem price increase growth option looks even less likely related articles biogen tecfidera amgen enbrel tell tale pricing power weakness novartis could snag blockbuster market time fight gilenya generics biogen controversial tecfidera meet biogen sees tecfidera buzz marketing push kicks buoyed rising tide aubagio scripts sanofi aims sales early gilenya generics spell trouble rival drugs read multiple sclerosis drug launch generics payer sanofi aubagio tecfidera biogen novartis gilenya popular content pfizer puts hemophilia spin ultrapopular minecraft educate young patients takeda johnson johnson join clara health boston based patient empowerment push empathy work glaxosmithkline extends excedrin migraine campaign include sufferers world best pharma market allergan easy roche nets actemra treat deadly response author tracy staton editor chief tracy fiercemarkets home subscribe manage newsletter subscriptions advertise privacy contact questex rights reserved grove street suite newton reproduction whole part prohibited'"
      ]
     },
     "execution_count": 82,
     "metadata": {},
     "output_type": "execute_result"
    }
   ],
   "source": [
    "cleaned_text[0]"
   ]
  },
  {
   "cell_type": "code",
   "execution_count": 83,
   "metadata": {},
   "outputs": [
    {
     "data": {
      "text/plain": [
       "array([4, 4, 4, ..., 6, 6, 6])"
      ]
     },
     "execution_count": 83,
     "metadata": {},
     "output_type": "execute_result"
    }
   ],
   "source": [
    "from sklearn.preprocessing import LabelEncoder\n",
    "Encoder=LabelEncoder()\n",
    "y=Encoder.fit_transform(new_train['Tag'])\n",
    "y"
   ]
  },
  {
   "cell_type": "code",
   "execution_count": 84,
   "metadata": {},
   "outputs": [
    {
     "name": "stdout",
     "output_type": "stream",
     "text": [
      "37412 37412\n",
      "16035 16035\n"
     ]
    }
   ],
   "source": [
    "from sklearn.model_selection import train_test_split\n",
    "X_train,X_val,y_train,y_val=train_test_split(cleaned_text,y,test_size=0.3,random_state=40)\n",
    "print(len(X_train),len(y_train))\n",
    "print(len(X_val),len(y_val))"
   ]
  },
  {
   "cell_type": "code",
   "execution_count": 85,
   "metadata": {},
   "outputs": [
    {
     "data": {
      "text/plain": [
       "array([[<matplotlib.axes._subplots.AxesSubplot object at 0x7febaef9ab38>]],\n",
       "      dtype=object)"
      ]
     },
     "execution_count": 85,
     "metadata": {},
     "output_type": "execute_result"
    },
    {
     "data": {
      "image/png": "[encoded data removed]",
      "text/plain": [
       "<Figure size 432x288 with 1 Axes>"
      ]
     },
     "metadata": {
      "needs_background": "light"
     },
     "output_type": "display_data"
    }
   ],
   "source": [
    "import matplotlib.pyplot as plt\n",
    "text_len=[]\n",
    "for i in cleaned_text:\n",
    "    text_len.append(len(i.split()))\n",
    "text_len_df=pd.DataFrame({'text':text_len})\n",
    "text_len_df.hist(bins=100,range=(0,10000))"
   ]
  },
  {
   "cell_type": "code",
   "execution_count": 86,
   "metadata": {},
   "outputs": [],
   "source": [
    "max_len=500"
   ]
  },
  {
   "cell_type": "code",
   "execution_count": 87,
   "metadata": {},
   "outputs": [],
   "source": [
    "from keras.preprocessing.text import Tokenizer\n",
    "from keras.preprocessing.sequence import pad_sequences\n",
    "tokenizer=Tokenizer()\n",
    "tokenizer.fit_on_texts(X_train)\n",
    "X_train=tokenizer.texts_to_sequences(X_train)\n",
    "X_val=tokenizer.texts_to_sequences(X_val)\n",
    "X_train=pad_sequences(X_train,maxlen=max_len,padding='post')\n",
    "X_val=pad_sequences(X_val,maxlen=max_len,padding='post')"
   ]
  },
  {
   "cell_type": "code",
   "execution_count": 88,
   "metadata": {},
   "outputs": [
    {
     "name": "stdout",
     "output_type": "stream",
     "text": [
      "Vocab Size 472760\n"
     ]
    }
   ],
   "source": [
    "vocab=len(tokenizer.word_index)+1\n",
    "print(\"Vocab Size\",vocab)"
   ]
  },
  {
   "cell_type": "code",
   "execution_count": 89,
   "metadata": {},
   "outputs": [],
   "source": [
    "from keras.utils.np_utils import to_categorical\n",
    "y_train=to_categorical(y_train,num_classes=9)\n",
    "y_val=to_categorical(y_val,num_classes=9)"
   ]
  },
  {
   "cell_type": "code",
   "execution_count": 90,
   "metadata": {},
   "outputs": [
    {
     "name": "stdout",
     "output_type": "stream",
     "text": [
      "(37412, 9)\n",
      "(16035, 9)\n"
     ]
    }
   ],
   "source": [
    "print(y_train.shape)\n",
    "print(y_val.shape)"
   ]
  },
  {
   "cell_type": "code",
   "execution_count": 92,
   "metadata": {},
   "outputs": [
    {
     "name": "stdout",
     "output_type": "stream",
     "text": [
      "_________________________________________________________________\n",
      "Layer (type)                 Output Shape              Param #   \n",
      "=================================================================\n",
      "embedding_1 (Embedding)      (None, 500, 100)          47276000  \n",
      "_________________________________________________________________\n",
      "lstm_1 (LSTM)                (None, 300)               481200    \n",
      "_________________________________________________________________\n",
      "dense_1 (Dense)              (None, 64)                19264     \n",
      "_________________________________________________________________\n",
      "dense_2 (Dense)              (None, 9)                 585       \n",
      "=================================================================\n",
      "Total params: 47,777,049\n",
      "Trainable params: 47,777,049\n",
      "Non-trainable params: 0\n",
      "_________________________________________________________________\n"
     ]
    }
   ],
   "source": [
    "from keras.models import Sequential\n",
    "from keras.layers import Dense, Embedding,GRU, LSTM\n",
    "from keras.callbacks import EarlyStopping, ModelCheckpoint\n",
    "import keras.backend as K\n",
    "K.clear_session()\n",
    "\n",
    "model=Sequential()\n",
    "model.add(Embedding(vocab,100,input_length=max_len,trainable=True,mask_zero=True))\n",
    "model.add(LSTM(300,dropout=0.1,recurrent_dropout=0.2))\n",
    "model.add(Dense(64,activation='relu'))\n",
    "model.add(Dense(9,activation='softmax'))\n",
    "model.summary()"
   ]
  },
  {
   "cell_type": "code",
   "execution_count": 95,
   "metadata": {},
   "outputs": [],
   "source": [
    " model.compile(optimizer='adam',loss='categorical_crossentropy',metrics=['acc'])"
   ]
  },
  {
   "cell_type": "code",
   "execution_count": 96,
   "metadata": {},
   "outputs": [],
   "source": [
    "es=EarlyStopping(monitor='val_loss',mode='min',verbose=1,patience=2)\n",
    "mc=ModelCheckpoint('best_model.h5',monitor='val_loss',mode='min',save_best_only=True,verbose=1)"
   ]
  },
  {
   "cell_type": "code",
   "execution_count": 97,
   "metadata": {},
   "outputs": [
    {
     "name": "stdout",
     "output_type": "stream",
     "text": [
      "Train on 37412 samples, validate on 16035 samples\n",
      "Epoch 1/100\n",
      " 1200/37412 [..............................] - ETA: 1:20:45 - loss: 2.1958 - acc: 0.1750"
     ]
    },
    {
     "ename": "KeyboardInterrupt",
     "evalue": "",
     "output_type": "error",
     "traceback": [
      "\u001b[0;31m---------------------------------------------------------------------------\u001b[0m",
      "\u001b[0;31mKeyboardInterrupt\u001b[0m                         Traceback (most recent call last)",
      "\u001b[0;32m<ipython-input-97-158ab49804c4>\u001b[0m in \u001b[0;36m<module>\u001b[0;34m\u001b[0m\n\u001b[1;32m      1\u001b[0m model.fit(x=np.array(X_train),y=np.array(y_train),batch_size=1200,epochs=100,\n\u001b[0;32m----> 2\u001b[0;31m           validation_data=(np.array(X_val),np.array(y_val)),callbacks=[es,mc])\n\u001b[0m",
      "\u001b[0;32m~/anaconda3/lib/python3.6/site-packages/keras/engine/training.py\u001b[0m in \u001b[0;36mfit\u001b[0;34m(self, x, y, batch_size, epochs, verbose, callbacks, validation_split, validation_data, shuffle, class_weight, sample_weight, initial_epoch, steps_per_epoch, validation_steps, **kwargs)\u001b[0m\n\u001b[1;32m   1037\u001b[0m                                         \u001b[0minitial_epoch\u001b[0m\u001b[0;34m=\u001b[0m\u001b[0minitial_epoch\u001b[0m\u001b[0;34m,\u001b[0m\u001b[0;34m\u001b[0m\u001b[0;34m\u001b[0m\u001b[0m\n\u001b[1;32m   1038\u001b[0m                                         \u001b[0msteps_per_epoch\u001b[0m\u001b[0;34m=\u001b[0m\u001b[0msteps_per_epoch\u001b[0m\u001b[0;34m,\u001b[0m\u001b[0;34m\u001b[0m\u001b[0;34m\u001b[0m\u001b[0m\n\u001b[0;32m-> 1039\u001b[0;31m                                         validation_steps=validation_steps)\n\u001b[0m\u001b[1;32m   1040\u001b[0m \u001b[0;34m\u001b[0m\u001b[0m\n\u001b[1;32m   1041\u001b[0m     def evaluate(self, x=None, y=None,\n",
      "\u001b[0;32m~/anaconda3/lib/python3.6/site-packages/keras/engine/training_arrays.py\u001b[0m in \u001b[0;36mfit_loop\u001b[0;34m(model, f, ins, out_labels, batch_size, epochs, verbose, callbacks, val_f, val_ins, shuffle, callback_metrics, initial_epoch, steps_per_epoch, validation_steps)\u001b[0m\n\u001b[1;32m    197\u001b[0m                     \u001b[0mins_batch\u001b[0m\u001b[0;34m[\u001b[0m\u001b[0mi\u001b[0m\u001b[0;34m]\u001b[0m \u001b[0;34m=\u001b[0m \u001b[0mins_batch\u001b[0m\u001b[0;34m[\u001b[0m\u001b[0mi\u001b[0m\u001b[0;34m]\u001b[0m\u001b[0;34m.\u001b[0m\u001b[0mtoarray\u001b[0m\u001b[0;34m(\u001b[0m\u001b[0;34m)\u001b[0m\u001b[0;34m\u001b[0m\u001b[0;34m\u001b[0m\u001b[0m\n\u001b[1;32m    198\u001b[0m \u001b[0;34m\u001b[0m\u001b[0m\n\u001b[0;32m--> 199\u001b[0;31m                 \u001b[0mouts\u001b[0m \u001b[0;34m=\u001b[0m \u001b[0mf\u001b[0m\u001b[0;34m(\u001b[0m\u001b[0mins_batch\u001b[0m\u001b[0;34m)\u001b[0m\u001b[0;34m\u001b[0m\u001b[0;34m\u001b[0m\u001b[0m\n\u001b[0m\u001b[1;32m    200\u001b[0m                 \u001b[0mouts\u001b[0m \u001b[0;34m=\u001b[0m \u001b[0mto_list\u001b[0m\u001b[0;34m(\u001b[0m\u001b[0mouts\u001b[0m\u001b[0;34m)\u001b[0m\u001b[0;34m\u001b[0m\u001b[0;34m\u001b[0m\u001b[0m\n\u001b[1;32m    201\u001b[0m                 \u001b[0;32mfor\u001b[0m \u001b[0ml\u001b[0m\u001b[0;34m,\u001b[0m \u001b[0mo\u001b[0m \u001b[0;32min\u001b[0m \u001b[0mzip\u001b[0m\u001b[0;34m(\u001b[0m\u001b[0mout_labels\u001b[0m\u001b[0;34m,\u001b[0m \u001b[0mouts\u001b[0m\u001b[0;34m)\u001b[0m\u001b[0;34m:\u001b[0m\u001b[0;34m\u001b[0m\u001b[0;34m\u001b[0m\u001b[0m\n",
      "\u001b[0;32m~/anaconda3/lib/python3.6/site-packages/keras/backend/tensorflow_backend.py\u001b[0m in \u001b[0;36m__call__\u001b[0;34m(self, inputs)\u001b[0m\n\u001b[1;32m   2713\u001b[0m                 \u001b[0;32mreturn\u001b[0m \u001b[0mself\u001b[0m\u001b[0;34m.\u001b[0m\u001b[0m_legacy_call\u001b[0m\u001b[0;34m(\u001b[0m\u001b[0minputs\u001b[0m\u001b[0;34m)\u001b[0m\u001b[0;34m\u001b[0m\u001b[0;34m\u001b[0m\u001b[0m\n\u001b[1;32m   2714\u001b[0m \u001b[0;34m\u001b[0m\u001b[0m\n\u001b[0;32m-> 2715\u001b[0;31m             \u001b[0;32mreturn\u001b[0m \u001b[0mself\u001b[0m\u001b[0;34m.\u001b[0m\u001b[0m_call\u001b[0m\u001b[0;34m(\u001b[0m\u001b[0minputs\u001b[0m\u001b[0;34m)\u001b[0m\u001b[0;34m\u001b[0m\u001b[0;34m\u001b[0m\u001b[0m\n\u001b[0m\u001b[1;32m   2716\u001b[0m         \u001b[0;32melse\u001b[0m\u001b[0;34m:\u001b[0m\u001b[0;34m\u001b[0m\u001b[0;34m\u001b[0m\u001b[0m\n\u001b[1;32m   2717\u001b[0m             \u001b[0;32mif\u001b[0m \u001b[0mpy_any\u001b[0m\u001b[0;34m(\u001b[0m\u001b[0mis_tensor\u001b[0m\u001b[0;34m(\u001b[0m\u001b[0mx\u001b[0m\u001b[0;34m)\u001b[0m \u001b[0;32mfor\u001b[0m \u001b[0mx\u001b[0m \u001b[0;32min\u001b[0m \u001b[0minputs\u001b[0m\u001b[0;34m)\u001b[0m\u001b[0;34m:\u001b[0m\u001b[0;34m\u001b[0m\u001b[0;34m\u001b[0m\u001b[0m\n",
      "\u001b[0;32m~/anaconda3/lib/python3.6/site-packages/keras/backend/tensorflow_backend.py\u001b[0m in \u001b[0;36m_call\u001b[0;34m(self, inputs)\u001b[0m\n\u001b[1;32m   2673\u001b[0m             \u001b[0mfetched\u001b[0m \u001b[0;34m=\u001b[0m \u001b[0mself\u001b[0m\u001b[0;34m.\u001b[0m\u001b[0m_callable_fn\u001b[0m\u001b[0;34m(\u001b[0m\u001b[0;34m*\u001b[0m\u001b[0marray_vals\u001b[0m\u001b[0;34m,\u001b[0m \u001b[0mrun_metadata\u001b[0m\u001b[0;34m=\u001b[0m\u001b[0mself\u001b[0m\u001b[0;34m.\u001b[0m\u001b[0mrun_metadata\u001b[0m\u001b[0;34m)\u001b[0m\u001b[0;34m\u001b[0m\u001b[0;34m\u001b[0m\u001b[0m\n\u001b[1;32m   2674\u001b[0m         \u001b[0;32melse\u001b[0m\u001b[0;34m:\u001b[0m\u001b[0;34m\u001b[0m\u001b[0;34m\u001b[0m\u001b[0m\n\u001b[0;32m-> 2675\u001b[0;31m             \u001b[0mfetched\u001b[0m \u001b[0;34m=\u001b[0m \u001b[0mself\u001b[0m\u001b[0;34m.\u001b[0m\u001b[0m_callable_fn\u001b[0m\u001b[0;34m(\u001b[0m\u001b[0;34m*\u001b[0m\u001b[0marray_vals\u001b[0m\u001b[0;34m)\u001b[0m\u001b[0;34m\u001b[0m\u001b[0;34m\u001b[0m\u001b[0m\n\u001b[0m\u001b[1;32m   2676\u001b[0m         \u001b[0;32mreturn\u001b[0m \u001b[0mfetched\u001b[0m\u001b[0;34m[\u001b[0m\u001b[0;34m:\u001b[0m\u001b[0mlen\u001b[0m\u001b[0;34m(\u001b[0m\u001b[0mself\u001b[0m\u001b[0;34m.\u001b[0m\u001b[0moutputs\u001b[0m\u001b[0;34m)\u001b[0m\u001b[0;34m]\u001b[0m\u001b[0;34m\u001b[0m\u001b[0;34m\u001b[0m\u001b[0m\n\u001b[1;32m   2677\u001b[0m \u001b[0;34m\u001b[0m\u001b[0m\n",
      "\u001b[0;32m~/anaconda3/lib/python3.6/site-packages/tensorflow/python/client/session.py\u001b[0m in \u001b[0;36m__call__\u001b[0;34m(self, *args, **kwargs)\u001b[0m\n\u001b[1;32m   1456\u001b[0m         ret = tf_session.TF_SessionRunCallable(self._session._session,\n\u001b[1;32m   1457\u001b[0m                                                \u001b[0mself\u001b[0m\u001b[0;34m.\u001b[0m\u001b[0m_handle\u001b[0m\u001b[0;34m,\u001b[0m \u001b[0margs\u001b[0m\u001b[0;34m,\u001b[0m\u001b[0;34m\u001b[0m\u001b[0;34m\u001b[0m\u001b[0m\n\u001b[0;32m-> 1458\u001b[0;31m                                                run_metadata_ptr)\n\u001b[0m\u001b[1;32m   1459\u001b[0m         \u001b[0;32mif\u001b[0m \u001b[0mrun_metadata\u001b[0m\u001b[0;34m:\u001b[0m\u001b[0;34m\u001b[0m\u001b[0;34m\u001b[0m\u001b[0m\n\u001b[1;32m   1460\u001b[0m           \u001b[0mproto_data\u001b[0m \u001b[0;34m=\u001b[0m \u001b[0mtf_session\u001b[0m\u001b[0;34m.\u001b[0m\u001b[0mTF_GetBuffer\u001b[0m\u001b[0;34m(\u001b[0m\u001b[0mrun_metadata_ptr\u001b[0m\u001b[0;34m)\u001b[0m\u001b[0;34m\u001b[0m\u001b[0;34m\u001b[0m\u001b[0m\n",
      "\u001b[0;31mKeyboardInterrupt\u001b[0m: "
     ]
    }
   ],
   "source": [
    "history=model.fit(x=np.array(X_train),y=np.array(y_train),batch_size=1200,epochs=10,\n",
    "          validation_data=(np.array(X_val),np.array(y_val)),callbacks=[es,mc])"
   ]
  },
  {
   "cell_type": "code",
   "execution_count": null,
   "metadata": {},
   "outputs": [],
   "source": [
    "from keras.models import load_model\n",
    "model = load_model('best_model.h5')"
   ]
  },
  {
   "cell_type": "code",
   "execution_count": null,
   "metadata": {},
   "outputs": [],
   "source": [
    "from sklearn.metrics import classification_report\n",
    "\n",
    "y_pred=model.predict_classes(np.array(x_val))\n",
    "y_true = np.argmax(y_val, axis=1)\n",
    "print(classification_report(y_true,y_pred))"
   ]
  },
  {
   "cell_type": "markdown",
   "metadata": {},
   "source": [
    "### GRU MODEL"
   ]
  },
  {
   "cell_type": "code",
   "execution_count": null,
   "metadata": {},
   "outputs": [],
   "source": [
    "from keras.models import Sequential\n",
    "from keras.layers import LSTM, Dense, Embedding, GRU\n",
    "from keras.callbacks import EarlyStopping, ModelCheckpoint\n",
    "import keras.backend as K\n",
    "K.clear_session()\n",
    "\n",
    "# GRU model\n",
    "model2=Sequential()\n",
    "model2.add(Embedding(vocabulary,100,input_length=max_len,trainable=True, mask_zero=True)) \n",
    "model2.add(GRU(300,dropout=0.1, recurrent_dropout=0.2)) \n",
    "model2.add(Dense(64,activation='relu')) \n",
    "model2.add(Dense(9,activation='softmax')) \n",
    "print(model2.summary())"
   ]
  },
  {
   "cell_type": "code",
   "execution_count": null,
   "metadata": {},
   "outputs": [],
   "source": [
    "# compile model\n",
    "model2.compile(optimizer='adam', loss='categorical_crossentropy',metrics=[\"acc\"]) \n",
    "\n",
    "# checkpoints \n",
    "es = EarlyStopping(monitor='val_loss', mode='min', verbose=1,patience=2)  \n",
    "mc=ModelCheckpoint('best_model_gru.h5', monitor='val_loss', mode='min', save_best_only=True,verbose=1)  \n",
    "\n",
    "# model history\n",
    "history2 = model2.fit(np.array(X_train),np.array(y_train),batch_size=1200,epochs=10,\n",
    "                      validation_data=(np.array(X_val),np.array(y_val)),\n",
    "                      verbose=1,callbacks=[es,mc])"
   ]
  },
  {
   "cell_type": "code",
   "execution_count": null,
   "metadata": {},
   "outputs": [],
   "source": [
    "from keras.models import load_model\n",
    "\n",
    "# load best model\n",
    "model = load_model('best_model_gru.h5')\n",
    "\n",
    "# make predictions\n",
    "from sklearn.metrics import classification_report\n",
    "\n",
    "y_pred=model.predict_classes(np.array(x_val))\n",
    "y_true = np.argmax(y_val, axis=1)\n",
    "print(classification_report(y_true,y_pred))"
   ]
  }
 ],
 "metadata": {
  "kernelspec": {
   "display_name": "Python 3",
   "language": "python",
   "name": "python3"
  },
  "language_info": {
   "codemirror_mode": {
    "name": "ipython",
    "version": 3
   },
   "file_extension": ".py",
   "mimetype": "text/x-python",
   "name": "python",
   "nbconvert_exporter": "python",
   "pygments_lexer": "ipython3",
   "version": "3.6.9"
  }
 },
 "nbformat": 4,
 "nbformat_minor": 4
}
